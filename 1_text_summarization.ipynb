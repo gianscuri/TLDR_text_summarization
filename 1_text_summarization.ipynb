{
  "nbformat": 4,
  "nbformat_minor": 0,
  "metadata": {
    "colab": {
      "provenance": [],
      "toc_visible": true,
      "authorship_tag": "ABX9TyN4kC/GKEnP1xioNQTS4z50",
      "include_colab_link": true
    },
    "kernelspec": {
      "name": "python3",
      "display_name": "Python 3"
    },
    "language_info": {
      "name": "python"
    }
  },
  "cells": [
    {
      "cell_type": "markdown",
      "metadata": {
        "id": "view-in-github",
        "colab_type": "text"
      },
      "source": [
        "<a href=\"https://colab.research.google.com/github/marco-scatassi/TLDR_text_summarization/blob/main/1_text_summarization.ipynb\" target=\"_parent\"><img src=\"https://colab.research.google.com/assets/colab-badge.svg\" alt=\"Open In Colab\"/></a>"
      ]
    },
    {
      "cell_type": "markdown",
      "source": [
        "# Library Import - General\n"
      ],
      "metadata": {
        "id": "PBrupBSqAQsN"
      }
    },
    {
      "cell_type": "code",
      "source": [
        "import pandas as pd\n",
        "import numpy as np"
      ],
      "metadata": {
        "id": "2gpPr7DaBUS3"
      },
      "execution_count": 1,
      "outputs": []
    },
    {
      "cell_type": "markdown",
      "source": [
        "# Data Loading\n"
      ],
      "metadata": {
        "id": "ipzJy1taAVF3"
      }
    },
    {
      "cell_type": "code",
      "source": [
        "train = pd.read_json('/content/train_lemmatized.json', orient=\"records\", lines=True)\n",
        "train_lemmatized = train['document_lemmatized']\n",
        "train.head(1)"
      ],
      "metadata": {
        "colab": {
          "base_uri": "https://localhost:8080/",
          "height": 211
        },
        "id": "eeG9l1JwBUvI",
        "outputId": "d5d3d68f-1d83-498f-e432-97fc9952ffa2"
      },
      "execution_count": 2,
      "outputs": [
        {
          "output_type": "execute_result",
          "data": {
            "text/plain": [
              "                                 id  \\\n",
              "0  train-TLDR_RS_2019-07-25907.json   \n",
              "\n",
              "                                            document  \\\n",
              "0  [hey y' all , i 've been a lurker in this comm...   \n",
              "\n",
              "                                             summary  \\\n",
              "0  i 'm publishing betas of some stuff i 've been...   \n",
              "\n",
              "                                          ext_labels  \\\n",
              "0  [0, 0, 0, 1, 0, 0, 0, 0, 0, 0, 0, 0, 0, 0, 0, ...   \n",
              "\n",
              "                                           rg_labels  \\\n",
              "0  [0.040456223300000003, 0.022386650100000002, 0...   \n",
              "\n",
              "                                 document_normalized  \\\n",
              "0  [hey y all i have been a lurked in this commun...   \n",
              "\n",
              "                                  document_tokenized  \\\n",
              "0  [[hey, y, all, i, have, been, a, lurked, in, t...   \n",
              "\n",
              "                                  document_stopwords  \\\n",
              "0  [[hey, lurked, community, sons, time, contribu...   \n",
              "\n",
              "                                 document_lemmatized  \n",
              "0  [[hey, lurked, community, son, time, contribut...  "
            ],
            "text/html": [
              "\n",
              "  <div id=\"df-127e20f9-3a97-4c2e-918f-72f32a2ad135\">\n",
              "    <div class=\"colab-df-container\">\n",
              "      <div>\n",
              "<style scoped>\n",
              "    .dataframe tbody tr th:only-of-type {\n",
              "        vertical-align: middle;\n",
              "    }\n",
              "\n",
              "    .dataframe tbody tr th {\n",
              "        vertical-align: top;\n",
              "    }\n",
              "\n",
              "    .dataframe thead th {\n",
              "        text-align: right;\n",
              "    }\n",
              "</style>\n",
              "<table border=\"1\" class=\"dataframe\">\n",
              "  <thead>\n",
              "    <tr style=\"text-align: right;\">\n",
              "      <th></th>\n",
              "      <th>id</th>\n",
              "      <th>document</th>\n",
              "      <th>summary</th>\n",
              "      <th>ext_labels</th>\n",
              "      <th>rg_labels</th>\n",
              "      <th>document_normalized</th>\n",
              "      <th>document_tokenized</th>\n",
              "      <th>document_stopwords</th>\n",
              "      <th>document_lemmatized</th>\n",
              "    </tr>\n",
              "  </thead>\n",
              "  <tbody>\n",
              "    <tr>\n",
              "      <th>0</th>\n",
              "      <td>train-TLDR_RS_2019-07-25907.json</td>\n",
              "      <td>[hey y' all , i 've been a lurker in this comm...</td>\n",
              "      <td>i 'm publishing betas of some stuff i 've been...</td>\n",
              "      <td>[0, 0, 0, 1, 0, 0, 0, 0, 0, 0, 0, 0, 0, 0, 0, ...</td>\n",
              "      <td>[0.040456223300000003, 0.022386650100000002, 0...</td>\n",
              "      <td>[hey y all i have been a lurked in this commun...</td>\n",
              "      <td>[[hey, y, all, i, have, been, a, lurked, in, t...</td>\n",
              "      <td>[[hey, lurked, community, sons, time, contribu...</td>\n",
              "      <td>[[hey, lurked, community, son, time, contribut...</td>\n",
              "    </tr>\n",
              "  </tbody>\n",
              "</table>\n",
              "</div>\n",
              "      <button class=\"colab-df-convert\" onclick=\"convertToInteractive('df-127e20f9-3a97-4c2e-918f-72f32a2ad135')\"\n",
              "              title=\"Convert this dataframe to an interactive table.\"\n",
              "              style=\"display:none;\">\n",
              "        \n",
              "  <svg xmlns=\"http://www.w3.org/2000/svg\" height=\"24px\"viewBox=\"0 0 24 24\"\n",
              "       width=\"24px\">\n",
              "    <path d=\"M0 0h24v24H0V0z\" fill=\"none\"/>\n",
              "    <path d=\"M18.56 5.44l.94 2.06.94-2.06 2.06-.94-2.06-.94-.94-2.06-.94 2.06-2.06.94zm-11 1L8.5 8.5l.94-2.06 2.06-.94-2.06-.94L8.5 2.5l-.94 2.06-2.06.94zm10 10l.94 2.06.94-2.06 2.06-.94-2.06-.94-.94-2.06-.94 2.06-2.06.94z\"/><path d=\"M17.41 7.96l-1.37-1.37c-.4-.4-.92-.59-1.43-.59-.52 0-1.04.2-1.43.59L10.3 9.45l-7.72 7.72c-.78.78-.78 2.05 0 2.83L4 21.41c.39.39.9.59 1.41.59.51 0 1.02-.2 1.41-.59l7.78-7.78 2.81-2.81c.8-.78.8-2.07 0-2.86zM5.41 20L4 18.59l7.72-7.72 1.47 1.35L5.41 20z\"/>\n",
              "  </svg>\n",
              "      </button>\n",
              "      \n",
              "  <style>\n",
              "    .colab-df-container {\n",
              "      display:flex;\n",
              "      flex-wrap:wrap;\n",
              "      gap: 12px;\n",
              "    }\n",
              "\n",
              "    .colab-df-convert {\n",
              "      background-color: #E8F0FE;\n",
              "      border: none;\n",
              "      border-radius: 50%;\n",
              "      cursor: pointer;\n",
              "      display: none;\n",
              "      fill: #1967D2;\n",
              "      height: 32px;\n",
              "      padding: 0 0 0 0;\n",
              "      width: 32px;\n",
              "    }\n",
              "\n",
              "    .colab-df-convert:hover {\n",
              "      background-color: #E2EBFA;\n",
              "      box-shadow: 0px 1px 2px rgba(60, 64, 67, 0.3), 0px 1px 3px 1px rgba(60, 64, 67, 0.15);\n",
              "      fill: #174EA6;\n",
              "    }\n",
              "\n",
              "    [theme=dark] .colab-df-convert {\n",
              "      background-color: #3B4455;\n",
              "      fill: #D2E3FC;\n",
              "    }\n",
              "\n",
              "    [theme=dark] .colab-df-convert:hover {\n",
              "      background-color: #434B5C;\n",
              "      box-shadow: 0px 1px 3px 1px rgba(0, 0, 0, 0.15);\n",
              "      filter: drop-shadow(0px 1px 2px rgba(0, 0, 0, 0.3));\n",
              "      fill: #FFFFFF;\n",
              "    }\n",
              "  </style>\n",
              "\n",
              "      <script>\n",
              "        const buttonEl =\n",
              "          document.querySelector('#df-127e20f9-3a97-4c2e-918f-72f32a2ad135 button.colab-df-convert');\n",
              "        buttonEl.style.display =\n",
              "          google.colab.kernel.accessAllowed ? 'block' : 'none';\n",
              "\n",
              "        async function convertToInteractive(key) {\n",
              "          const element = document.querySelector('#df-127e20f9-3a97-4c2e-918f-72f32a2ad135');\n",
              "          const dataTable =\n",
              "            await google.colab.kernel.invokeFunction('convertToInteractive',\n",
              "                                                     [key], {});\n",
              "          if (!dataTable) return;\n",
              "\n",
              "          const docLinkHtml = 'Like what you see? Visit the ' +\n",
              "            '<a target=\"_blank\" href=https://colab.research.google.com/notebooks/data_table.ipynb>data table notebook</a>'\n",
              "            + ' to learn more about interactive tables.';\n",
              "          element.innerHTML = '';\n",
              "          dataTable['output_type'] = 'display_data';\n",
              "          await google.colab.output.renderOutput(dataTable, element);\n",
              "          const docLink = document.createElement('div');\n",
              "          docLink.innerHTML = docLinkHtml;\n",
              "          element.appendChild(docLink);\n",
              "        }\n",
              "      </script>\n",
              "    </div>\n",
              "  </div>\n",
              "  "
            ]
          },
          "metadata": {},
          "execution_count": 2
        }
      ]
    },
    {
      "cell_type": "code",
      "source": [
        "val = pd.read_json('/content/val_lemmatized.json', orient=\"records\", lines=True)\n",
        "val_lemmatized = val['document_lemmatized']\n",
        "val.head(1)"
      ],
      "metadata": {
        "colab": {
          "base_uri": "https://localhost:8080/",
          "height": 211
        },
        "id": "Rg1v7IzfCMoY",
        "outputId": "21ea3d34-bf86-4549-b5a9-0e79158fdc92"
      },
      "execution_count": 3,
      "outputs": [
        {
          "output_type": "execute_result",
          "data": {
            "text/plain": [
              "                                 id  \\\n",
              "0  train-TLDR_RS_2019-02-45730.json   \n",
              "\n",
              "                                            document  \\\n",
              "0  [so i just had the thought of what if people c...   \n",
              "\n",
              "                                             summary       ext_labels  \\\n",
              "0  name a new eve every 2 - 5 generations so that...  [0, 0, 1, 0, 0]   \n",
              "\n",
              "                                           rg_labels  \\\n",
              "0  [0.14523170130000002, 0.0821840568, 0.47712410...   \n",
              "\n",
              "                                 document_normalized  \\\n",
              "0  [so i just had the thought of what if people c...   \n",
              "\n",
              "                                  document_tokenized  \\\n",
              "0  [[so, i, just, had, the, thought, of, what, if...   \n",
              "\n",
              "                                  document_stopwords  \\\n",
              "0  [[thought, people, could, name, children, even...   \n",
              "\n",
              "                                 document_lemmatized  \n",
              "0  [[thought, people, could, name, child, even, c...  "
            ],
            "text/html": [
              "\n",
              "  <div id=\"df-c755f41e-7b5d-4d25-8d5a-1944873cab4a\">\n",
              "    <div class=\"colab-df-container\">\n",
              "      <div>\n",
              "<style scoped>\n",
              "    .dataframe tbody tr th:only-of-type {\n",
              "        vertical-align: middle;\n",
              "    }\n",
              "\n",
              "    .dataframe tbody tr th {\n",
              "        vertical-align: top;\n",
              "    }\n",
              "\n",
              "    .dataframe thead th {\n",
              "        text-align: right;\n",
              "    }\n",
              "</style>\n",
              "<table border=\"1\" class=\"dataframe\">\n",
              "  <thead>\n",
              "    <tr style=\"text-align: right;\">\n",
              "      <th></th>\n",
              "      <th>id</th>\n",
              "      <th>document</th>\n",
              "      <th>summary</th>\n",
              "      <th>ext_labels</th>\n",
              "      <th>rg_labels</th>\n",
              "      <th>document_normalized</th>\n",
              "      <th>document_tokenized</th>\n",
              "      <th>document_stopwords</th>\n",
              "      <th>document_lemmatized</th>\n",
              "    </tr>\n",
              "  </thead>\n",
              "  <tbody>\n",
              "    <tr>\n",
              "      <th>0</th>\n",
              "      <td>train-TLDR_RS_2019-02-45730.json</td>\n",
              "      <td>[so i just had the thought of what if people c...</td>\n",
              "      <td>name a new eve every 2 - 5 generations so that...</td>\n",
              "      <td>[0, 0, 1, 0, 0]</td>\n",
              "      <td>[0.14523170130000002, 0.0821840568, 0.47712410...</td>\n",
              "      <td>[so i just had the thought of what if people c...</td>\n",
              "      <td>[[so, i, just, had, the, thought, of, what, if...</td>\n",
              "      <td>[[thought, people, could, name, children, even...</td>\n",
              "      <td>[[thought, people, could, name, child, even, c...</td>\n",
              "    </tr>\n",
              "  </tbody>\n",
              "</table>\n",
              "</div>\n",
              "      <button class=\"colab-df-convert\" onclick=\"convertToInteractive('df-c755f41e-7b5d-4d25-8d5a-1944873cab4a')\"\n",
              "              title=\"Convert this dataframe to an interactive table.\"\n",
              "              style=\"display:none;\">\n",
              "        \n",
              "  <svg xmlns=\"http://www.w3.org/2000/svg\" height=\"24px\"viewBox=\"0 0 24 24\"\n",
              "       width=\"24px\">\n",
              "    <path d=\"M0 0h24v24H0V0z\" fill=\"none\"/>\n",
              "    <path d=\"M18.56 5.44l.94 2.06.94-2.06 2.06-.94-2.06-.94-.94-2.06-.94 2.06-2.06.94zm-11 1L8.5 8.5l.94-2.06 2.06-.94-2.06-.94L8.5 2.5l-.94 2.06-2.06.94zm10 10l.94 2.06.94-2.06 2.06-.94-2.06-.94-.94-2.06-.94 2.06-2.06.94z\"/><path d=\"M17.41 7.96l-1.37-1.37c-.4-.4-.92-.59-1.43-.59-.52 0-1.04.2-1.43.59L10.3 9.45l-7.72 7.72c-.78.78-.78 2.05 0 2.83L4 21.41c.39.39.9.59 1.41.59.51 0 1.02-.2 1.41-.59l7.78-7.78 2.81-2.81c.8-.78.8-2.07 0-2.86zM5.41 20L4 18.59l7.72-7.72 1.47 1.35L5.41 20z\"/>\n",
              "  </svg>\n",
              "      </button>\n",
              "      \n",
              "  <style>\n",
              "    .colab-df-container {\n",
              "      display:flex;\n",
              "      flex-wrap:wrap;\n",
              "      gap: 12px;\n",
              "    }\n",
              "\n",
              "    .colab-df-convert {\n",
              "      background-color: #E8F0FE;\n",
              "      border: none;\n",
              "      border-radius: 50%;\n",
              "      cursor: pointer;\n",
              "      display: none;\n",
              "      fill: #1967D2;\n",
              "      height: 32px;\n",
              "      padding: 0 0 0 0;\n",
              "      width: 32px;\n",
              "    }\n",
              "\n",
              "    .colab-df-convert:hover {\n",
              "      background-color: #E2EBFA;\n",
              "      box-shadow: 0px 1px 2px rgba(60, 64, 67, 0.3), 0px 1px 3px 1px rgba(60, 64, 67, 0.15);\n",
              "      fill: #174EA6;\n",
              "    }\n",
              "\n",
              "    [theme=dark] .colab-df-convert {\n",
              "      background-color: #3B4455;\n",
              "      fill: #D2E3FC;\n",
              "    }\n",
              "\n",
              "    [theme=dark] .colab-df-convert:hover {\n",
              "      background-color: #434B5C;\n",
              "      box-shadow: 0px 1px 3px 1px rgba(0, 0, 0, 0.15);\n",
              "      filter: drop-shadow(0px 1px 2px rgba(0, 0, 0, 0.3));\n",
              "      fill: #FFFFFF;\n",
              "    }\n",
              "  </style>\n",
              "\n",
              "      <script>\n",
              "        const buttonEl =\n",
              "          document.querySelector('#df-c755f41e-7b5d-4d25-8d5a-1944873cab4a button.colab-df-convert');\n",
              "        buttonEl.style.display =\n",
              "          google.colab.kernel.accessAllowed ? 'block' : 'none';\n",
              "\n",
              "        async function convertToInteractive(key) {\n",
              "          const element = document.querySelector('#df-c755f41e-7b5d-4d25-8d5a-1944873cab4a');\n",
              "          const dataTable =\n",
              "            await google.colab.kernel.invokeFunction('convertToInteractive',\n",
              "                                                     [key], {});\n",
              "          if (!dataTable) return;\n",
              "\n",
              "          const docLinkHtml = 'Like what you see? Visit the ' +\n",
              "            '<a target=\"_blank\" href=https://colab.research.google.com/notebooks/data_table.ipynb>data table notebook</a>'\n",
              "            + ' to learn more about interactive tables.';\n",
              "          element.innerHTML = '';\n",
              "          dataTable['output_type'] = 'display_data';\n",
              "          await google.colab.output.renderOutput(dataTable, element);\n",
              "          const docLink = document.createElement('div');\n",
              "          docLink.innerHTML = docLinkHtml;\n",
              "          element.appendChild(docLink);\n",
              "        }\n",
              "      </script>\n",
              "    </div>\n",
              "  </div>\n",
              "  "
            ]
          },
          "metadata": {},
          "execution_count": 3
        }
      ]
    },
    {
      "cell_type": "code",
      "source": [
        "test = pd.read_json('/content/test_lemmatized.json', orient=\"records\", lines=True)\n",
        "test_lemmatized = test['document_lemmatized']\n",
        "test.head(1)"
      ],
      "metadata": {
        "colab": {
          "base_uri": "https://localhost:8080/",
          "height": 211
        },
        "id": "7KQ7XX2uCa-2",
        "outputId": "4dc4d6c3-0119-44fa-f25e-70e7109a63e0"
      },
      "execution_count": 4,
      "outputs": [
        {
          "output_type": "execute_result",
          "data": {
            "text/plain": [
              "                                 id  \\\n",
              "0  train-TLDR_RS_2019-02-45730.json   \n",
              "\n",
              "                                            document  \\\n",
              "0  [so i just had the thought of what if people c...   \n",
              "\n",
              "                                             summary       ext_labels  \\\n",
              "0  name a new eve every 2 - 5 generations so that...  [0, 0, 1, 0, 0]   \n",
              "\n",
              "                                           rg_labels  \\\n",
              "0  [0.14523170130000002, 0.0821840568, 0.47712410...   \n",
              "\n",
              "                                 document_normalized  \\\n",
              "0  [so i just had the thought of what if people c...   \n",
              "\n",
              "                                  document_tokenized  \\\n",
              "0  [[so, i, just, had, the, thought, of, what, if...   \n",
              "\n",
              "                                  document_stopwords  \\\n",
              "0  [[thought, people, could, name, children, even...   \n",
              "\n",
              "                                 document_lemmatized  \n",
              "0  [[thought, people, could, name, child, even, c...  "
            ],
            "text/html": [
              "\n",
              "  <div id=\"df-19df3168-b2c9-44b7-953c-bb37a33db49e\">\n",
              "    <div class=\"colab-df-container\">\n",
              "      <div>\n",
              "<style scoped>\n",
              "    .dataframe tbody tr th:only-of-type {\n",
              "        vertical-align: middle;\n",
              "    }\n",
              "\n",
              "    .dataframe tbody tr th {\n",
              "        vertical-align: top;\n",
              "    }\n",
              "\n",
              "    .dataframe thead th {\n",
              "        text-align: right;\n",
              "    }\n",
              "</style>\n",
              "<table border=\"1\" class=\"dataframe\">\n",
              "  <thead>\n",
              "    <tr style=\"text-align: right;\">\n",
              "      <th></th>\n",
              "      <th>id</th>\n",
              "      <th>document</th>\n",
              "      <th>summary</th>\n",
              "      <th>ext_labels</th>\n",
              "      <th>rg_labels</th>\n",
              "      <th>document_normalized</th>\n",
              "      <th>document_tokenized</th>\n",
              "      <th>document_stopwords</th>\n",
              "      <th>document_lemmatized</th>\n",
              "    </tr>\n",
              "  </thead>\n",
              "  <tbody>\n",
              "    <tr>\n",
              "      <th>0</th>\n",
              "      <td>train-TLDR_RS_2019-02-45730.json</td>\n",
              "      <td>[so i just had the thought of what if people c...</td>\n",
              "      <td>name a new eve every 2 - 5 generations so that...</td>\n",
              "      <td>[0, 0, 1, 0, 0]</td>\n",
              "      <td>[0.14523170130000002, 0.0821840568, 0.47712410...</td>\n",
              "      <td>[so i just had the thought of what if people c...</td>\n",
              "      <td>[[so, i, just, had, the, thought, of, what, if...</td>\n",
              "      <td>[[thought, people, could, name, children, even...</td>\n",
              "      <td>[[thought, people, could, name, child, even, c...</td>\n",
              "    </tr>\n",
              "  </tbody>\n",
              "</table>\n",
              "</div>\n",
              "      <button class=\"colab-df-convert\" onclick=\"convertToInteractive('df-19df3168-b2c9-44b7-953c-bb37a33db49e')\"\n",
              "              title=\"Convert this dataframe to an interactive table.\"\n",
              "              style=\"display:none;\">\n",
              "        \n",
              "  <svg xmlns=\"http://www.w3.org/2000/svg\" height=\"24px\"viewBox=\"0 0 24 24\"\n",
              "       width=\"24px\">\n",
              "    <path d=\"M0 0h24v24H0V0z\" fill=\"none\"/>\n",
              "    <path d=\"M18.56 5.44l.94 2.06.94-2.06 2.06-.94-2.06-.94-.94-2.06-.94 2.06-2.06.94zm-11 1L8.5 8.5l.94-2.06 2.06-.94-2.06-.94L8.5 2.5l-.94 2.06-2.06.94zm10 10l.94 2.06.94-2.06 2.06-.94-2.06-.94-.94-2.06-.94 2.06-2.06.94z\"/><path d=\"M17.41 7.96l-1.37-1.37c-.4-.4-.92-.59-1.43-.59-.52 0-1.04.2-1.43.59L10.3 9.45l-7.72 7.72c-.78.78-.78 2.05 0 2.83L4 21.41c.39.39.9.59 1.41.59.51 0 1.02-.2 1.41-.59l7.78-7.78 2.81-2.81c.8-.78.8-2.07 0-2.86zM5.41 20L4 18.59l7.72-7.72 1.47 1.35L5.41 20z\"/>\n",
              "  </svg>\n",
              "      </button>\n",
              "      \n",
              "  <style>\n",
              "    .colab-df-container {\n",
              "      display:flex;\n",
              "      flex-wrap:wrap;\n",
              "      gap: 12px;\n",
              "    }\n",
              "\n",
              "    .colab-df-convert {\n",
              "      background-color: #E8F0FE;\n",
              "      border: none;\n",
              "      border-radius: 50%;\n",
              "      cursor: pointer;\n",
              "      display: none;\n",
              "      fill: #1967D2;\n",
              "      height: 32px;\n",
              "      padding: 0 0 0 0;\n",
              "      width: 32px;\n",
              "    }\n",
              "\n",
              "    .colab-df-convert:hover {\n",
              "      background-color: #E2EBFA;\n",
              "      box-shadow: 0px 1px 2px rgba(60, 64, 67, 0.3), 0px 1px 3px 1px rgba(60, 64, 67, 0.15);\n",
              "      fill: #174EA6;\n",
              "    }\n",
              "\n",
              "    [theme=dark] .colab-df-convert {\n",
              "      background-color: #3B4455;\n",
              "      fill: #D2E3FC;\n",
              "    }\n",
              "\n",
              "    [theme=dark] .colab-df-convert:hover {\n",
              "      background-color: #434B5C;\n",
              "      box-shadow: 0px 1px 3px 1px rgba(0, 0, 0, 0.15);\n",
              "      filter: drop-shadow(0px 1px 2px rgba(0, 0, 0, 0.3));\n",
              "      fill: #FFFFFF;\n",
              "    }\n",
              "  </style>\n",
              "\n",
              "      <script>\n",
              "        const buttonEl =\n",
              "          document.querySelector('#df-19df3168-b2c9-44b7-953c-bb37a33db49e button.colab-df-convert');\n",
              "        buttonEl.style.display =\n",
              "          google.colab.kernel.accessAllowed ? 'block' : 'none';\n",
              "\n",
              "        async function convertToInteractive(key) {\n",
              "          const element = document.querySelector('#df-19df3168-b2c9-44b7-953c-bb37a33db49e');\n",
              "          const dataTable =\n",
              "            await google.colab.kernel.invokeFunction('convertToInteractive',\n",
              "                                                     [key], {});\n",
              "          if (!dataTable) return;\n",
              "\n",
              "          const docLinkHtml = 'Like what you see? Visit the ' +\n",
              "            '<a target=\"_blank\" href=https://colab.research.google.com/notebooks/data_table.ipynb>data table notebook</a>'\n",
              "            + ' to learn more about interactive tables.';\n",
              "          element.innerHTML = '';\n",
              "          dataTable['output_type'] = 'display_data';\n",
              "          await google.colab.output.renderOutput(dataTable, element);\n",
              "          const docLink = document.createElement('div');\n",
              "          docLink.innerHTML = docLinkHtml;\n",
              "          element.appendChild(docLink);\n",
              "        }\n",
              "      </script>\n",
              "    </div>\n",
              "  </div>\n",
              "  "
            ]
          },
          "metadata": {},
          "execution_count": 4
        }
      ]
    },
    {
      "cell_type": "markdown",
      "source": [
        "# POS tagging"
      ],
      "metadata": {
        "id": "FyQCoLK1BLHT"
      }
    },
    {
      "cell_type": "markdown",
      "source": [
        "## Library import"
      ],
      "metadata": {
        "id": "bO19XNdYFde1"
      }
    },
    {
      "cell_type": "code",
      "source": [
        "import nltk\n",
        "nltk.download('averaged_perceptron_tagger')\n",
        "nltk.download('tagsets')\n",
        "nltk.download('universal_tagset')"
      ],
      "metadata": {
        "colab": {
          "base_uri": "https://localhost:8080/"
        },
        "id": "ejt8WzZkBVEO",
        "outputId": "d20c5a9d-721e-4121-c7e0-d6a14835acc1"
      },
      "execution_count": 5,
      "outputs": [
        {
          "output_type": "stream",
          "name": "stderr",
          "text": [
            "[nltk_data] Downloading package averaged_perceptron_tagger to\n",
            "[nltk_data]     /root/nltk_data...\n",
            "[nltk_data]   Package averaged_perceptron_tagger is already up-to-\n",
            "[nltk_data]       date!\n",
            "[nltk_data] Downloading package tagsets to /root/nltk_data...\n",
            "[nltk_data]   Package tagsets is already up-to-date!\n",
            "[nltk_data] Downloading package universal_tagset to /root/nltk_data...\n",
            "[nltk_data]   Package universal_tagset is already up-to-date!\n"
          ]
        },
        {
          "output_type": "execute_result",
          "data": {
            "text/plain": [
              "True"
            ]
          },
          "metadata": {},
          "execution_count": 5
        }
      ]
    },
    {
      "cell_type": "markdown",
      "source": [
        "Serve per estrarre il solo tag dalla coppia (word,tag) restituita dal *nltk.tag.pos_tag_sents*"
      ],
      "metadata": {
        "id": "aueyjTJaYQ5h"
      }
    },
    {
      "cell_type": "code",
      "source": [
        "def extract_tags(document_tags: list):\n",
        "  doc_tags = pd.Series(document_tags)\n",
        "  doc_tags = doc_tags.apply(lambda subList: pd.Series(subList))\n",
        "  doc_tags = doc_tags.applymap(lambda wordTagTuple: wordTagTuple[1] if type(wordTagTuple)==tuple else '')\n",
        "  return doc_tags.values"
      ],
      "metadata": {
        "id": "QiJbhInBR9iD"
      },
      "execution_count": 6,
      "outputs": []
    },
    {
      "cell_type": "markdown",
      "source": [
        "Lavora direttamente su una lista di frasi (ovvero il documento), in questo modo èpiù efficiente"
      ],
      "metadata": {
        "id": "Rkg0bnr2YFsW"
      }
    },
    {
      "cell_type": "code",
      "source": [
        "def POS_tagging(document: list, tagset:str = 'universal', lang:str='eng'):\n",
        "  POS_tags = nltk.tag.pos_tag_sents(document, tagset=tagset, lang=lang)\n",
        "  POS_tags = extract_tags(POS_tags)\n",
        "  return POS_tags"
      ],
      "metadata": {
        "id": "gTmUZb7FO0_4"
      },
      "execution_count": 7,
      "outputs": []
    },
    {
      "cell_type": "code",
      "source": [
        "train['POS_tag'] = train_lemmatized.apply(POS_tagging)\n",
        "val['POS_tag'] = val_lemmatized.apply(POS_tagging)\n",
        "test['POS_tag'] = test_lemmatized.apply(POS_tagging)"
      ],
      "metadata": {
        "colab": {
          "base_uri": "https://localhost:8080/"
        },
        "id": "SyXkrTRpFzdU",
        "outputId": "83a3c48c-0a5e-40b9-ff43-3559a693e0a8"
      },
      "execution_count": 27,
      "outputs": [
        {
          "output_type": "stream",
          "name": "stderr",
          "text": [
            "<ipython-input-6-30dcbc3a4af6>:3: DeprecationWarning: The default dtype for empty Series will be 'object' instead of 'float64' in a future version. Specify a dtype explicitly to silence this warning.\n",
            "  doc_tags = doc_tags.apply(lambda subList: pd.Series(subList))\n"
          ]
        }
      ]
    },
    {
      "cell_type": "markdown",
      "source": [
        "# Text Summarization"
      ],
      "metadata": {
        "id": "FFjEnlOkBPqd"
      }
    },
    {
      "cell_type": "markdown",
      "source": [
        "## Library import"
      ],
      "metadata": {
        "id": "1f9jxX5ljoc3"
      }
    },
    {
      "cell_type": "code",
      "source": [
        "from sklearn.feature_extraction.text import TfidfVectorizer\n",
        "from sklearn.metrics.pairwise import cosine_similarity\n",
        "from sklearn.ensemble import HistGradientBoostingClassifier"
      ],
      "metadata": {
        "id": "1F9Cn-Q0jqfZ"
      },
      "execution_count": 18,
      "outputs": []
    },
    {
      "cell_type": "markdown",
      "source": [
        "## Features definition\n"
      ],
      "metadata": {
        "id": "VMUmqYTZx8WP"
      }
    },
    {
      "cell_type": "code",
      "source": [
        "def sentence_relative_positions(sentence: list, document: list):\n",
        "  doc = pd.Series(document)\n",
        "  sentence_index = doc[doc.apply(lambda x: x==sentence)].index.to_list()[0]\n",
        "  if len(doc)-1 == 0:\n",
        "    return 0\n",
        "  else:\n",
        "    relative_index = sentence_index/(len(doc)-1)\n",
        "    return relative_index"
      ],
      "metadata": {
        "id": "of5I9uShbmN2"
      },
      "execution_count": 33,
      "outputs": []
    },
    {
      "cell_type": "code",
      "source": [],
      "metadata": {
        "colab": {
          "base_uri": "https://localhost:8080/"
        },
        "id": "uv9qy2vZ4iPh",
        "outputId": "60616af3-2cdb-41a0-cf70-b47cf8c2b8fa"
      },
      "execution_count": 55,
      "outputs": [
        {
          "output_type": "execute_result",
          "data": {
            "text/plain": [
              "396"
            ]
          },
          "metadata": {},
          "execution_count": 55
        }
      ]
    },
    {
      "cell_type": "code",
      "source": [
        "def word_in_sentence_relative(sentence: list, document:list):\n",
        "  doc = pd.Series(document)\n",
        "  word_in_sentence = len(sentence)\n",
        "  word_in_document = doc.apply(len).sum()\n",
        "  return word_in_sentence/word_in_document"
      ],
      "metadata": {
        "id": "hzVyOOGFc1wL"
      },
      "execution_count": 57,
      "outputs": []
    },
    {
      "cell_type": "code",
      "source": [
        "def POS_tag_ratio(sentence: list, tag_name: str, document: list, document_tags: list):\n",
        "  doc = pd.Series(document)\n",
        "\n",
        "  sentence_index = document[document.apply(lambda x: x==sentence)].index.to_list()[0]\n",
        "  tags = document_tags[sentence_index]\n",
        "\n",
        "  sentence_length = len(sentence)\n",
        "\n",
        "  if sentence_length == 0:\n",
        "    return 0\n",
        "  else:\n",
        "    return sum(tags==tag_name)/sentence_length"
      ],
      "metadata": {
        "id": "UNkYnWmzZGil"
      },
      "execution_count": 12,
      "outputs": []
    },
    {
      "cell_type": "code",
      "source": [
        "def TF_ISF_and_Sentence_similarity_score_n_gram(document: list, n: int=1):\n",
        "  doc = pd.Series(document)\n",
        "  doc = doc.apply(lambda wordList: ' '.join(wordList))\n",
        "  \n",
        "  vectorizer = TfidfVectorizer(ngram_range=(n,n))\n",
        "  X = vectorizer.fit_transform(doc)\n",
        "\n",
        "  tf_isf_absolute = X.sum(axis=1)\n",
        "  tf_isf_relative = tf_isf_absolute/max(tf_isf_absolute)\n",
        "\n",
        "  sentence_similarity_absolute = np.array(list(map(lambda x: x.sum(), cosine_similarity(X))))\n",
        "  sentence_similarity_relative = sentence_similarity_absolute/len(doc)\n",
        "\n",
        "  return (np.array(tf_isf_relative).flatten(), sentence_similarity_relative)"
      ],
      "metadata": {
        "id": "cEkMv_1ci_dd"
      },
      "execution_count": 13,
      "outputs": []
    },
    {
      "cell_type": "markdown",
      "source": [
        "## Dataset generation"
      ],
      "metadata": {
        "id": "wW0gaAj2y8HY"
      }
    },
    {
      "cell_type": "code",
      "source": [
        "def sentence_feature_matrix(document_data: pd.Series):\n",
        "  doc = pd.Series(document_data['document_lemmatized'])\n",
        "  doc_tag = document_data['POS_tag']\n",
        "  \n",
        "  s = pd.DataFrame()\n",
        "\n",
        "  s['sentence_relative_positions'] = doc.apply(sentence_relative_positions, document = doc)\n",
        "  s['word_in_sentence_relative'] = doc.apply(word_in_sentence_relative, document = doc)\n",
        "\n",
        "  for tag_name in ['NOUN','VERB','ADJ', 'ADV']:\n",
        "    s['POS_tag_ratio_'+tag_name] = doc.apply(POS_tag_ratio, tag_name = tag_name, document = doc, document_tags = doc_tag)\n",
        "  \n",
        "  for n in [1]:\n",
        "    (s['tf_isf_'+str(n)+'_gram'], s['sentence_similarity_'+str(n)+'_gram']) = TF_ISF_and_Sentence_similarity_score_n_gram(doc, n)\n",
        "\n",
        "  s['ext_labels'] = document_data['ext_labels']\n",
        "\n",
        "  return s"
      ],
      "metadata": {
        "id": "O8Dthm-nyGM6"
      },
      "execution_count": 351,
      "outputs": []
    },
    {
      "cell_type": "code",
      "source": [
        "train_lem_tag = train[['document_lemmatized','POS_tag', 'ext_labels']]\n",
        "val_lem_tag = val[['document_lemmatized','POS_tag', 'ext_labels']]\n",
        "test_lem_tag = test[['document_lemmatized','POS_tag', 'ext_labels']]"
      ],
      "metadata": {
        "id": "aIRIHCN5sJMY"
      },
      "execution_count": 352,
      "outputs": []
    },
    {
      "cell_type": "code",
      "source": [
        "%time dfs = train_lem_tag.apply(sentence_feature_matrix, axis=1)\n",
        "train_summarization = pd.concat(list(dfs), ignore_index=True)"
      ],
      "metadata": {
        "colab": {
          "base_uri": "https://localhost:8080/"
        },
        "id": "qDdacgY4snWU",
        "outputId": "9dbfc76f-63c0-4c6a-de98-2eb4fc8db30f"
      },
      "execution_count": 353,
      "outputs": [
        {
          "output_type": "stream",
          "name": "stdout",
          "text": [
            "CPU times: user 4.14 s, sys: 40.4 ms, total: 4.18 s\n",
            "Wall time: 4.2 s\n"
          ]
        }
      ]
    },
    {
      "cell_type": "code",
      "source": [
        "%time dfs = val_lem_tag.apply(sentence_feature_matrix, axis=1)\n",
        "val_summarization = pd.concat(list(dfs), ignore_index=True)"
      ],
      "metadata": {
        "colab": {
          "base_uri": "https://localhost:8080/"
        },
        "id": "Jl-kfuBB2BYG",
        "outputId": "bbf3b3a8-e4ba-4a54-9980-238e67890ba5"
      },
      "execution_count": 354,
      "outputs": [
        {
          "output_type": "stream",
          "name": "stdout",
          "text": [
            "CPU times: user 4.51 s, sys: 48.4 ms, total: 4.56 s\n",
            "Wall time: 4.56 s\n"
          ]
        }
      ]
    },
    {
      "cell_type": "code",
      "source": [
        "%time test_summarization_splitted = test_lem_tag.apply(sentence_feature_matrix, axis=1)\n",
        "test_summarization = pd.concat(list(test_summarization_splitted), ignore_index=True)"
      ],
      "metadata": {
        "colab": {
          "base_uri": "https://localhost:8080/"
        },
        "id": "E58LFHhg2j3-",
        "outputId": "2146ad71-bdaf-4b1c-87a3-27e04eea47ce"
      },
      "execution_count": 355,
      "outputs": [
        {
          "output_type": "stream",
          "name": "stdout",
          "text": [
            "CPU times: user 4.34 s, sys: 21.9 ms, total: 4.36 s\n",
            "Wall time: 4.39 s\n"
          ]
        }
      ]
    },
    {
      "cell_type": "markdown",
      "source": [
        "### Dataset exploration"
      ],
      "metadata": {
        "id": "XH56X_nj-Bkk"
      }
    },
    {
      "cell_type": "markdown",
      "source": [
        "#### Library import"
      ],
      "metadata": {
        "id": "qVxtF698_6tg"
      }
    },
    {
      "cell_type": "code",
      "source": [
        "import matplotlib.pyplot as plt\n",
        "import seaborn as sns\n",
        "from pandas.plotting import scatter_matrix\n",
        "from numpy.linalg import norm, pinv, matrix_rank\n",
        "import random\n",
        "from scipy.linalg import svd\n",
        "from sklearn.decomposition import TruncatedSVD\n",
        "from numpy.linalg import matrix_rank"
      ],
      "metadata": {
        "id": "rV63554U_9rK"
      },
      "execution_count": 356,
      "outputs": []
    },
    {
      "cell_type": "markdown",
      "source": [
        "#### Exploration"
      ],
      "metadata": {
        "id": "qrYsxOlT_-jH"
      }
    },
    {
      "cell_type": "code",
      "source": [
        "dataset_summarization = pd.concat([train_summarization,val_summarization,test_summarization])"
      ],
      "metadata": {
        "id": "OAPMAmbU9M1a"
      },
      "execution_count": 357,
      "outputs": []
    },
    {
      "cell_type": "code",
      "source": [
        "features = dataset_summarization.columns.delete(-1)"
      ],
      "metadata": {
        "id": "5p34SsTJ_JkH"
      },
      "execution_count": 358,
      "outputs": []
    },
    {
      "cell_type": "code",
      "source": [
        "dataset_summarization['ext_labels'].value_counts()"
      ],
      "metadata": {
        "colab": {
          "base_uri": "https://localhost:8080/"
        },
        "id": "cNmV757H-JWM",
        "outputId": "92d4491b-b988-4e21-8a42-30529f1f992d"
      },
      "execution_count": 359,
      "outputs": [
        {
          "output_type": "execute_result",
          "data": {
            "text/plain": [
              "0    4237\n",
              "1     498\n",
              "Name: ext_labels, dtype: int64"
            ]
          },
          "metadata": {},
          "execution_count": 359
        }
      ]
    },
    {
      "cell_type": "code",
      "source": [
        "dataset_summarization[features].plot.box(figsize=(11,5), rot=45)"
      ],
      "metadata": {
        "colab": {
          "base_uri": "https://localhost:8080/",
          "height": 433
        },
        "id": "CmiAUrv-_DC0",
        "outputId": "00c436da-174c-4923-f2ca-a2eab75079d7"
      },
      "execution_count": 360,
      "outputs": [
        {
          "output_type": "execute_result",
          "data": {
            "text/plain": [
              "<matplotlib.axes._subplots.AxesSubplot at 0x7f74a7ce7490>"
            ]
          },
          "metadata": {},
          "execution_count": 360
        },
        {
          "output_type": "display_data",
          "data": {
            "text/plain": [
              "<Figure size 792x360 with 1 Axes>"
            ],
            "image/png": "[encoded data removed]"
          },
          "metadata": {
            "needs_background": "light"
          }
        }
      ]
    },
    {
      "cell_type": "code",
      "source": [
        "f, ax = plt.subplots(figsize=(8, 6))\n",
        "corr = dataset_summarization[features].corr()\n",
        "sns.heatmap(corr, cmap=\"Blues\", annot=True)"
      ],
      "metadata": {
        "colab": {
          "base_uri": "https://localhost:8080/",
          "height": 525
        },
        "id": "B5wWoiYQCm44",
        "outputId": "caeee6b5-977b-4f63-d992-89b2700b4482"
      },
      "execution_count": 361,
      "outputs": [
        {
          "output_type": "execute_result",
          "data": {
            "text/plain": [
              "<matplotlib.axes._subplots.AxesSubplot at 0x7f74a809be80>"
            ]
          },
          "metadata": {},
          "execution_count": 361
        },
        {
          "output_type": "display_data",
          "data": {
            "text/plain": [
              "<Figure size 576x432 with 2 Axes>"
            ],
            "image/png": "[encoded data removed]"
          },
          "metadata": {
            "needs_background": "light"
          }
        }
      ]
    },
    {
      "cell_type": "markdown",
      "source": [
        "### Undersampling"
      ],
      "metadata": {
        "id": "13_IeqnVJMle"
      }
    },
    {
      "cell_type": "code",
      "source": [
        "def ColumnSelect(A, k, c, v):\n",
        "    # {\n",
        "    # Input\n",
        "    # - A: una matrice m x n.\n",
        "    # - k: un parametro di rango k.\n",
        "    # - c: numero di colonne che vogliamo selezionare da A.\n",
        "    # - v: matrice n x k dei primi k vettori singolari destri di A.\n",
        "    # Output\n",
        "    # - C: matrice m x c' con c' colonne da A, c' <= c.\n",
        "    # }\n",
        "\n",
        "    random.seed(30)\n",
        "\n",
        "    m,n = A.shape\n",
        "    #------- Calcolo del normalized leverage scores di eqn. 3 di [1]. ---------\n",
        "    pi = []\n",
        "    for j in range(n):\n",
        "        pi.append((norm(v[j,:])**2) / k )\n",
        "        \n",
        "    #--------------------------selezione colonne ------------------------------\n",
        "    indexA = []\n",
        "    for j in range(n):\n",
        "        # la j-esima colonna di A è selezionata con probabilità prob_j.\n",
        "        prob_j = min([1,c*pi[j]])   #trova il minimo tra 1 e c*pi(j)\n",
        "\n",
        "        if prob_j==1: # se prob_j=1 seleziona la j-esima colonna di A\n",
        "            indexA.append(j)\n",
        "        elif prob_j > random.random():  # se prob_j<1, genera un numero casuale in [0,1]\n",
        "            indexA.append(j) # poi se prob_j > rand, seleziona la j-esima colonna di A\n",
        "\n",
        "    # Al termine indexA conterrà gli indici delle colonne selezionate da A\n",
        "    C = A[:, indexA]\n",
        "    return C, indexA"
      ],
      "metadata": {
        "id": "HGukJY2zGJvw"
      },
      "execution_count": 362,
      "outputs": []
    },
    {
      "cell_type": "code",
      "source": [
        "def CUR(A, k, c, r):\n",
        "    # {\n",
        "    # Input:\n",
        "    # - A: matrice m x n.\n",
        "    # - k: parametro di rango, con k << min(m,n).\n",
        "    # - c: numero di colonne che vogliamo selezionare da A.\n",
        "    # - r: numero di righe che vogliamo slezionare da A.\n",
        "    # Ouput:\n",
        "    # - C: matrice m x c' con c' colonne da A, c' <= c.)\n",
        "    # - R: matrice r' x n con r' righe da A, r' <= r.\n",
        "    # - U_pi: matrice c' x r'.\n",
        "    # }\n",
        "\n",
        "    # calcolo dei primi k vettori singolari destri di A and A'\n",
        "    U, s, Vt = svd(A, full_matrices = False)\n",
        "    V = Vt.transpose() \n",
        "    Vk = V[:,:k]\n",
        "    Uk = U[:,:k] \n",
        "\n",
        "    #-------------------------- Algoritmo CUR ---------------------------------\n",
        "    C, indexAc = ColumnSelect(A, k, c, Vk)             # Sceglie c' colonne da A.\n",
        "    R, indexAr = ColumnSelect(A.transpose(), k, r, Uk) #  Sceglie r' righe da A.\n",
        "    R=R.transpose()\n",
        "    U=A[indexAr, :][:,indexAc]  #costruisce U come in teorema [2.1.1]\n",
        "    U_pi=pinv(U);               #determina la pseudoinversa di U\n",
        "    return C, U_pi, R, indexAr, indexAc"
      ],
      "metadata": {
        "id": "xaWjREBuGR7y"
      },
      "execution_count": 312,
      "outputs": []
    },
    {
      "cell_type": "code",
      "source": [
        "def CUR_undersampling(training_dataset: pd.DataFrame, ratio: float=0.5, analysis: bool=True):\n",
        "  A = training_dataset[features]\n",
        "  A_0 = A[training_dataset['ext_labels']==0]\n",
        "  A_1 = A[training_dataset['ext_labels']==1]\n",
        "\n",
        "  k = min(A_0.shape[1], int(A_0.shape[0]*ratio))\n",
        "  C, U_pi, R, indexAr, indexAc = CUR(np.matrix(A_0), k, A_0.shape[1], int(A_0.shape[0]*ratio))\n",
        "\n",
        "  A_undersampled = A_1.append(A_0.iloc[indexAr,:])\n",
        "  A_undersampled['ext_labels'] = training_dataset['ext_labels'].iloc[A_undersampled.index]\n",
        "\n",
        "  if analysis:\n",
        "    A_0_reconstructed = np.round(np.matmul((np.matmul(C, U_pi)),R),5)\n",
        "    error = norm(A_0-A_0_reconstructed)/(norm(A_0))\n",
        "    print('reconstruction error',error)\n",
        "\n",
        "    print('Summary sentence proportion in original dataset', np.round(len(A_1)/(len(A)),4))\n",
        "    print('Summary sentence proportion in the reduced dataset', np.round(len(A_1)/(len(A_undersampled)),3))\n",
        "\n",
        "  return A_undersampled"
      ],
      "metadata": {
        "id": "Cj7Ikjk_NWC4"
      },
      "execution_count": 294,
      "outputs": []
    },
    {
      "cell_type": "markdown",
      "source": [
        "## Machine learning model"
      ],
      "metadata": {
        "id": "ELKDw3ud0BRQ"
      }
    },
    {
      "cell_type": "code",
      "source": [
        "train_summarization_undersampled = CUR_undersampling(train_summarization)\n",
        "\n",
        "X_train = train_summarization_undersampled[features]\n",
        "y_train = train_summarization_undersampled['ext_labels']"
      ],
      "metadata": {
        "colab": {
          "base_uri": "https://localhost:8080/"
        },
        "id": "5Njue6KS1GQ2",
        "outputId": "8f4f0842-b6c2-4e16-9194-b11cd26046ec"
      },
      "execution_count": 363,
      "outputs": [
        {
          "output_type": "stream",
          "name": "stdout",
          "text": [
            "reconstruction error 6.10636481024403e-06\n",
            "Summary sentence proportion in original dataset 0.1076\n",
            "Summary sentence proportion in the reduced dataset 0.217\n"
          ]
        }
      ]
    },
    {
      "cell_type": "markdown",
      "source": [
        "### Training"
      ],
      "metadata": {
        "id": "bBOuJbuB9-XR"
      }
    },
    {
      "cell_type": "code",
      "source": [
        "model = HistGradientBoostingClassifier()\n",
        "model.fit(X_train,y_train)"
      ],
      "metadata": {
        "colab": {
          "base_uri": "https://localhost:8080/"
        },
        "id": "e40eqE2E0FoC",
        "outputId": "ca401b92-a2f4-42fb-dba7-fa48aeb68725"
      },
      "execution_count": 364,
      "outputs": [
        {
          "output_type": "execute_result",
          "data": {
            "text/plain": [
              "HistGradientBoostingClassifier()"
            ]
          },
          "metadata": {},
          "execution_count": 364
        }
      ]
    },
    {
      "cell_type": "code",
      "source": [
        "X_test = test_summarization[test_summarization.columns.delete(-1)]\n",
        "y_test = test_summarization['ext_labels']"
      ],
      "metadata": {
        "id": "6dHBE2bB5oeL"
      },
      "execution_count": 365,
      "outputs": []
    },
    {
      "cell_type": "code",
      "source": [
        "sum_ = 0\n",
        "p = model.predict(X_test)\n",
        "for i in range(len(y_test)):\n",
        "  if p[i] == y_test[i] and y_test[i] == 1:\n",
        "    sum_+=1\n",
        "sum_/len(y_test.where(y_test==1).dropna())"
      ],
      "metadata": {
        "colab": {
          "base_uri": "https://localhost:8080/"
        },
        "id": "9plnurr_4G_F",
        "outputId": "362e8869-57be-47b5-ca06-dac69d8e6048"
      },
      "execution_count": 366,
      "outputs": [
        {
          "output_type": "execute_result",
          "data": {
            "text/plain": [
              "0.16666666666666666"
            ]
          },
          "metadata": {},
          "execution_count": 366
        }
      ]
    },
    {
      "cell_type": "code",
      "source": [
        "train_summarization.shape"
      ],
      "metadata": {
        "colab": {
          "base_uri": "https://localhost:8080/"
        },
        "id": "kNydKpUR4ZHY",
        "outputId": "54480237-9cf3-4460-f577-c674c76be159"
      },
      "execution_count": 367,
      "outputs": [
        {
          "output_type": "execute_result",
          "data": {
            "text/plain": [
              "(1505, 9)"
            ]
          },
          "metadata": {},
          "execution_count": 367
        }
      ]
    }
  ]
}