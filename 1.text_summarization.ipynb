{
  "nbformat": 4,
  "nbformat_minor": 0,
  "metadata": {
    "colab": {
      "provenance": [],
      "toc_visible": true,
      "authorship_tag": "ABX9TyNHdrcvpP4Yk1zZ9rIzwjJB",
      "include_colab_link": true
    },
    "kernelspec": {
      "name": "python3",
      "display_name": "Python 3"
    },
    "language_info": {
      "name": "python"
    }
  },
  "cells": [
    {
      "cell_type": "markdown",
      "metadata": {
        "id": "view-in-github",
        "colab_type": "text"
      },
      "source": [
        "<a href=\"https://colab.research.google.com/github/marco-scatassi/TLDR_text_summarization/blob/main/1.text_summarization.ipynb\" target=\"_parent\"><img src=\"https://colab.research.google.com/assets/colab-badge.svg\" alt=\"Open In Colab\"/></a>"
      ]
    },
    {
      "cell_type": "markdown",
      "source": [
        "# Library Import - General\n"
      ],
      "metadata": {
        "id": "PBrupBSqAQsN"
      }
    },
    {
      "cell_type": "code",
      "source": [
        "import pandas as pd"
      ],
      "metadata": {
        "id": "2gpPr7DaBUS3"
      },
      "execution_count": 2,
      "outputs": []
    },
    {
      "cell_type": "markdown",
      "source": [
        "# Data Loading\n"
      ],
      "metadata": {
        "id": "ipzJy1taAVF3"
      }
    },
    {
      "cell_type": "code",
      "source": [
        "train = pd.read_json('/content/train_lemmatized.json', orient=\"records\", lines=True)\n",
        "train_lemmatized = train['document_lemmatized']\n",
        "train.head(1)"
      ],
      "metadata": {
        "colab": {
          "base_uri": "https://localhost:8080/",
          "height": 231
        },
        "id": "eeG9l1JwBUvI",
        "outputId": "509d5297-f95a-452d-a5c4-8df1492ac668"
      },
      "execution_count": 95,
      "outputs": [
        {
          "output_type": "execute_result",
          "data": {
            "text/plain": [
              "                                 id  \\\n",
              "0  train-TLDR_RS_2019-07-25907.json   \n",
              "\n",
              "                                            document  \\\n",
              "0  [hey y' all , i 've been a lurker in this comm...   \n",
              "\n",
              "                                             summary  \\\n",
              "0  i 'm publishing betas of some stuff i 've been...   \n",
              "\n",
              "                                          ext_labels  \\\n",
              "0  [0, 0, 0, 1, 0, 0, 0, 0, 0, 0, 0, 0, 0, 0, 0, ...   \n",
              "\n",
              "                                           rg_labels  \\\n",
              "0  [0.040456223300000003, 0.022386650100000002, 0...   \n",
              "\n",
              "                                 document_normalized  \\\n",
              "0  [hey y all i have been a lurked in this commun...   \n",
              "\n",
              "                                  document_tokenized  \\\n",
              "0  [[hey, y, all, i, have, been, a, lurked, in, t...   \n",
              "\n",
              "                                  document_stopwords  \\\n",
              "0  [[hey, lurked, community, sons, time, contribu...   \n",
              "\n",
              "                                 document_lemmatized  \n",
              "0  [[hey, lurked, community, son, time, contribut...  "
            ],
            "text/html": [
              "\n",
              "  <div id=\"df-a2c602c2-9af5-4aa1-a415-7dfca97f2f80\">\n",
              "    <div class=\"colab-df-container\">\n",
              "      <div>\n",
              "<style scoped>\n",
              "    .dataframe tbody tr th:only-of-type {\n",
              "        vertical-align: middle;\n",
              "    }\n",
              "\n",
              "    .dataframe tbody tr th {\n",
              "        vertical-align: top;\n",
              "    }\n",
              "\n",
              "    .dataframe thead th {\n",
              "        text-align: right;\n",
              "    }\n",
              "</style>\n",
              "<table border=\"1\" class=\"dataframe\">\n",
              "  <thead>\n",
              "    <tr style=\"text-align: right;\">\n",
              "      <th></th>\n",
              "      <th>id</th>\n",
              "      <th>document</th>\n",
              "      <th>summary</th>\n",
              "      <th>ext_labels</th>\n",
              "      <th>rg_labels</th>\n",
              "      <th>document_normalized</th>\n",
              "      <th>document_tokenized</th>\n",
              "      <th>document_stopwords</th>\n",
              "      <th>document_lemmatized</th>\n",
              "    </tr>\n",
              "  </thead>\n",
              "  <tbody>\n",
              "    <tr>\n",
              "      <th>0</th>\n",
              "      <td>train-TLDR_RS_2019-07-25907.json</td>\n",
              "      <td>[hey y' all , i 've been a lurker in this comm...</td>\n",
              "      <td>i 'm publishing betas of some stuff i 've been...</td>\n",
              "      <td>[0, 0, 0, 1, 0, 0, 0, 0, 0, 0, 0, 0, 0, 0, 0, ...</td>\n",
              "      <td>[0.040456223300000003, 0.022386650100000002, 0...</td>\n",
              "      <td>[hey y all i have been a lurked in this commun...</td>\n",
              "      <td>[[hey, y, all, i, have, been, a, lurked, in, t...</td>\n",
              "      <td>[[hey, lurked, community, sons, time, contribu...</td>\n",
              "      <td>[[hey, lurked, community, son, time, contribut...</td>\n",
              "    </tr>\n",
              "  </tbody>\n",
              "</table>\n",
              "</div>\n",
              "      <button class=\"colab-df-convert\" onclick=\"convertToInteractive('df-a2c602c2-9af5-4aa1-a415-7dfca97f2f80')\"\n",
              "              title=\"Convert this dataframe to an interactive table.\"\n",
              "              style=\"display:none;\">\n",
              "        \n",
              "  <svg xmlns=\"http://www.w3.org/2000/svg\" height=\"24px\"viewBox=\"0 0 24 24\"\n",
              "       width=\"24px\">\n",
              "    <path d=\"M0 0h24v24H0V0z\" fill=\"none\"/>\n",
              "    <path d=\"M18.56 5.44l.94 2.06.94-2.06 2.06-.94-2.06-.94-.94-2.06-.94 2.06-2.06.94zm-11 1L8.5 8.5l.94-2.06 2.06-.94-2.06-.94L8.5 2.5l-.94 2.06-2.06.94zm10 10l.94 2.06.94-2.06 2.06-.94-2.06-.94-.94-2.06-.94 2.06-2.06.94z\"/><path d=\"M17.41 7.96l-1.37-1.37c-.4-.4-.92-.59-1.43-.59-.52 0-1.04.2-1.43.59L10.3 9.45l-7.72 7.72c-.78.78-.78 2.05 0 2.83L4 21.41c.39.39.9.59 1.41.59.51 0 1.02-.2 1.41-.59l7.78-7.78 2.81-2.81c.8-.78.8-2.07 0-2.86zM5.41 20L4 18.59l7.72-7.72 1.47 1.35L5.41 20z\"/>\n",
              "  </svg>\n",
              "      </button>\n",
              "      \n",
              "  <style>\n",
              "    .colab-df-container {\n",
              "      display:flex;\n",
              "      flex-wrap:wrap;\n",
              "      gap: 12px;\n",
              "    }\n",
              "\n",
              "    .colab-df-convert {\n",
              "      background-color: #E8F0FE;\n",
              "      border: none;\n",
              "      border-radius: 50%;\n",
              "      cursor: pointer;\n",
              "      display: none;\n",
              "      fill: #1967D2;\n",
              "      height: 32px;\n",
              "      padding: 0 0 0 0;\n",
              "      width: 32px;\n",
              "    }\n",
              "\n",
              "    .colab-df-convert:hover {\n",
              "      background-color: #E2EBFA;\n",
              "      box-shadow: 0px 1px 2px rgba(60, 64, 67, 0.3), 0px 1px 3px 1px rgba(60, 64, 67, 0.15);\n",
              "      fill: #174EA6;\n",
              "    }\n",
              "\n",
              "    [theme=dark] .colab-df-convert {\n",
              "      background-color: #3B4455;\n",
              "      fill: #D2E3FC;\n",
              "    }\n",
              "\n",
              "    [theme=dark] .colab-df-convert:hover {\n",
              "      background-color: #434B5C;\n",
              "      box-shadow: 0px 1px 3px 1px rgba(0, 0, 0, 0.15);\n",
              "      filter: drop-shadow(0px 1px 2px rgba(0, 0, 0, 0.3));\n",
              "      fill: #FFFFFF;\n",
              "    }\n",
              "  </style>\n",
              "\n",
              "      <script>\n",
              "        const buttonEl =\n",
              "          document.querySelector('#df-a2c602c2-9af5-4aa1-a415-7dfca97f2f80 button.colab-df-convert');\n",
              "        buttonEl.style.display =\n",
              "          google.colab.kernel.accessAllowed ? 'block' : 'none';\n",
              "\n",
              "        async function convertToInteractive(key) {\n",
              "          const element = document.querySelector('#df-a2c602c2-9af5-4aa1-a415-7dfca97f2f80');\n",
              "          const dataTable =\n",
              "            await google.colab.kernel.invokeFunction('convertToInteractive',\n",
              "                                                     [key], {});\n",
              "          if (!dataTable) return;\n",
              "\n",
              "          const docLinkHtml = 'Like what you see? Visit the ' +\n",
              "            '<a target=\"_blank\" href=https://colab.research.google.com/notebooks/data_table.ipynb>data table notebook</a>'\n",
              "            + ' to learn more about interactive tables.';\n",
              "          element.innerHTML = '';\n",
              "          dataTable['output_type'] = 'display_data';\n",
              "          await google.colab.output.renderOutput(dataTable, element);\n",
              "          const docLink = document.createElement('div');\n",
              "          docLink.innerHTML = docLinkHtml;\n",
              "          element.appendChild(docLink);\n",
              "        }\n",
              "      </script>\n",
              "    </div>\n",
              "  </div>\n",
              "  "
            ]
          },
          "metadata": {},
          "execution_count": 95
        }
      ]
    },
    {
      "cell_type": "code",
      "source": [
        "val = pd.read_json('/content/val_lemmatized.json', orient=\"records\", lines=True)\n",
        "val_lemmatized = val['document_lemmatized']\n",
        "val.head(1)"
      ],
      "metadata": {
        "colab": {
          "base_uri": "https://localhost:8080/",
          "height": 231
        },
        "id": "Rg1v7IzfCMoY",
        "outputId": "5cd6f03a-013d-4c60-a1f9-5f8bf371637c"
      },
      "execution_count": 64,
      "outputs": [
        {
          "output_type": "execute_result",
          "data": {
            "text/plain": [
              "                                 id  \\\n",
              "0  train-TLDR_RS_2019-02-45730.json   \n",
              "\n",
              "                                            document  \\\n",
              "0  [so i just had the thought of what if people c...   \n",
              "\n",
              "                                             summary       ext_labels  \\\n",
              "0  name a new eve every 2 - 5 generations so that...  [0, 0, 1, 0, 0]   \n",
              "\n",
              "                                           rg_labels  \\\n",
              "0  [0.14523170130000002, 0.0821840568, 0.47712410...   \n",
              "\n",
              "                                 document_normalized  \\\n",
              "0  [so i just had the thought of what if people c...   \n",
              "\n",
              "                                  document_tokenized  \\\n",
              "0  [[so, i, just, had, the, thought, of, what, if...   \n",
              "\n",
              "                                  document_stopwords  \\\n",
              "0  [[thought, people, could, name, children, even...   \n",
              "\n",
              "                                 document_lemmatized  \n",
              "0  [[thought, people, could, name, child, even, c...  "
            ],
            "text/html": [
              "\n",
              "  <div id=\"df-779a1f8c-9472-4550-80ec-1094044ef52a\">\n",
              "    <div class=\"colab-df-container\">\n",
              "      <div>\n",
              "<style scoped>\n",
              "    .dataframe tbody tr th:only-of-type {\n",
              "        vertical-align: middle;\n",
              "    }\n",
              "\n",
              "    .dataframe tbody tr th {\n",
              "        vertical-align: top;\n",
              "    }\n",
              "\n",
              "    .dataframe thead th {\n",
              "        text-align: right;\n",
              "    }\n",
              "</style>\n",
              "<table border=\"1\" class=\"dataframe\">\n",
              "  <thead>\n",
              "    <tr style=\"text-align: right;\">\n",
              "      <th></th>\n",
              "      <th>id</th>\n",
              "      <th>document</th>\n",
              "      <th>summary</th>\n",
              "      <th>ext_labels</th>\n",
              "      <th>rg_labels</th>\n",
              "      <th>document_normalized</th>\n",
              "      <th>document_tokenized</th>\n",
              "      <th>document_stopwords</th>\n",
              "      <th>document_lemmatized</th>\n",
              "    </tr>\n",
              "  </thead>\n",
              "  <tbody>\n",
              "    <tr>\n",
              "      <th>0</th>\n",
              "      <td>train-TLDR_RS_2019-02-45730.json</td>\n",
              "      <td>[so i just had the thought of what if people c...</td>\n",
              "      <td>name a new eve every 2 - 5 generations so that...</td>\n",
              "      <td>[0, 0, 1, 0, 0]</td>\n",
              "      <td>[0.14523170130000002, 0.0821840568, 0.47712410...</td>\n",
              "      <td>[so i just had the thought of what if people c...</td>\n",
              "      <td>[[so, i, just, had, the, thought, of, what, if...</td>\n",
              "      <td>[[thought, people, could, name, children, even...</td>\n",
              "      <td>[[thought, people, could, name, child, even, c...</td>\n",
              "    </tr>\n",
              "  </tbody>\n",
              "</table>\n",
              "</div>\n",
              "      <button class=\"colab-df-convert\" onclick=\"convertToInteractive('df-779a1f8c-9472-4550-80ec-1094044ef52a')\"\n",
              "              title=\"Convert this dataframe to an interactive table.\"\n",
              "              style=\"display:none;\">\n",
              "        \n",
              "  <svg xmlns=\"http://www.w3.org/2000/svg\" height=\"24px\"viewBox=\"0 0 24 24\"\n",
              "       width=\"24px\">\n",
              "    <path d=\"M0 0h24v24H0V0z\" fill=\"none\"/>\n",
              "    <path d=\"M18.56 5.44l.94 2.06.94-2.06 2.06-.94-2.06-.94-.94-2.06-.94 2.06-2.06.94zm-11 1L8.5 8.5l.94-2.06 2.06-.94-2.06-.94L8.5 2.5l-.94 2.06-2.06.94zm10 10l.94 2.06.94-2.06 2.06-.94-2.06-.94-.94-2.06-.94 2.06-2.06.94z\"/><path d=\"M17.41 7.96l-1.37-1.37c-.4-.4-.92-.59-1.43-.59-.52 0-1.04.2-1.43.59L10.3 9.45l-7.72 7.72c-.78.78-.78 2.05 0 2.83L4 21.41c.39.39.9.59 1.41.59.51 0 1.02-.2 1.41-.59l7.78-7.78 2.81-2.81c.8-.78.8-2.07 0-2.86zM5.41 20L4 18.59l7.72-7.72 1.47 1.35L5.41 20z\"/>\n",
              "  </svg>\n",
              "      </button>\n",
              "      \n",
              "  <style>\n",
              "    .colab-df-container {\n",
              "      display:flex;\n",
              "      flex-wrap:wrap;\n",
              "      gap: 12px;\n",
              "    }\n",
              "\n",
              "    .colab-df-convert {\n",
              "      background-color: #E8F0FE;\n",
              "      border: none;\n",
              "      border-radius: 50%;\n",
              "      cursor: pointer;\n",
              "      display: none;\n",
              "      fill: #1967D2;\n",
              "      height: 32px;\n",
              "      padding: 0 0 0 0;\n",
              "      width: 32px;\n",
              "    }\n",
              "\n",
              "    .colab-df-convert:hover {\n",
              "      background-color: #E2EBFA;\n",
              "      box-shadow: 0px 1px 2px rgba(60, 64, 67, 0.3), 0px 1px 3px 1px rgba(60, 64, 67, 0.15);\n",
              "      fill: #174EA6;\n",
              "    }\n",
              "\n",
              "    [theme=dark] .colab-df-convert {\n",
              "      background-color: #3B4455;\n",
              "      fill: #D2E3FC;\n",
              "    }\n",
              "\n",
              "    [theme=dark] .colab-df-convert:hover {\n",
              "      background-color: #434B5C;\n",
              "      box-shadow: 0px 1px 3px 1px rgba(0, 0, 0, 0.15);\n",
              "      filter: drop-shadow(0px 1px 2px rgba(0, 0, 0, 0.3));\n",
              "      fill: #FFFFFF;\n",
              "    }\n",
              "  </style>\n",
              "\n",
              "      <script>\n",
              "        const buttonEl =\n",
              "          document.querySelector('#df-779a1f8c-9472-4550-80ec-1094044ef52a button.colab-df-convert');\n",
              "        buttonEl.style.display =\n",
              "          google.colab.kernel.accessAllowed ? 'block' : 'none';\n",
              "\n",
              "        async function convertToInteractive(key) {\n",
              "          const element = document.querySelector('#df-779a1f8c-9472-4550-80ec-1094044ef52a');\n",
              "          const dataTable =\n",
              "            await google.colab.kernel.invokeFunction('convertToInteractive',\n",
              "                                                     [key], {});\n",
              "          if (!dataTable) return;\n",
              "\n",
              "          const docLinkHtml = 'Like what you see? Visit the ' +\n",
              "            '<a target=\"_blank\" href=https://colab.research.google.com/notebooks/data_table.ipynb>data table notebook</a>'\n",
              "            + ' to learn more about interactive tables.';\n",
              "          element.innerHTML = '';\n",
              "          dataTable['output_type'] = 'display_data';\n",
              "          await google.colab.output.renderOutput(dataTable, element);\n",
              "          const docLink = document.createElement('div');\n",
              "          docLink.innerHTML = docLinkHtml;\n",
              "          element.appendChild(docLink);\n",
              "        }\n",
              "      </script>\n",
              "    </div>\n",
              "  </div>\n",
              "  "
            ]
          },
          "metadata": {},
          "execution_count": 64
        }
      ]
    },
    {
      "cell_type": "code",
      "source": [
        "test = pd.read_json('/content/test_lemmatized.json', orient=\"records\", lines=True)\n",
        "test_lemmatized = test['document_lemmatized']\n",
        "test.head(1)"
      ],
      "metadata": {
        "colab": {
          "base_uri": "https://localhost:8080/",
          "height": 231
        },
        "id": "7KQ7XX2uCa-2",
        "outputId": "4ca99712-28f2-4bc0-9e7a-6055bc5d53aa"
      },
      "execution_count": 63,
      "outputs": [
        {
          "output_type": "execute_result",
          "data": {
            "text/plain": [
              "                                 id  \\\n",
              "0  train-TLDR_RS_2019-02-45730.json   \n",
              "\n",
              "                                            document  \\\n",
              "0  [so i just had the thought of what if people c...   \n",
              "\n",
              "                                             summary       ext_labels  \\\n",
              "0  name a new eve every 2 - 5 generations so that...  [0, 0, 1, 0, 0]   \n",
              "\n",
              "                                           rg_labels  \\\n",
              "0  [0.14523170130000002, 0.0821840568, 0.47712410...   \n",
              "\n",
              "                                 document_normalized  \\\n",
              "0  [so i just had the thought of what if people c...   \n",
              "\n",
              "                                  document_tokenized  \\\n",
              "0  [[so, i, just, had, the, thought, of, what, if...   \n",
              "\n",
              "                                  document_stopwords  \\\n",
              "0  [[thought, people, could, name, children, even...   \n",
              "\n",
              "                                 document_lemmatized  \n",
              "0  [[thought, people, could, name, child, even, c...  "
            ],
            "text/html": [
              "\n",
              "  <div id=\"df-99aefc89-4f9b-4e29-b90d-95902e3736d6\">\n",
              "    <div class=\"colab-df-container\">\n",
              "      <div>\n",
              "<style scoped>\n",
              "    .dataframe tbody tr th:only-of-type {\n",
              "        vertical-align: middle;\n",
              "    }\n",
              "\n",
              "    .dataframe tbody tr th {\n",
              "        vertical-align: top;\n",
              "    }\n",
              "\n",
              "    .dataframe thead th {\n",
              "        text-align: right;\n",
              "    }\n",
              "</style>\n",
              "<table border=\"1\" class=\"dataframe\">\n",
              "  <thead>\n",
              "    <tr style=\"text-align: right;\">\n",
              "      <th></th>\n",
              "      <th>id</th>\n",
              "      <th>document</th>\n",
              "      <th>summary</th>\n",
              "      <th>ext_labels</th>\n",
              "      <th>rg_labels</th>\n",
              "      <th>document_normalized</th>\n",
              "      <th>document_tokenized</th>\n",
              "      <th>document_stopwords</th>\n",
              "      <th>document_lemmatized</th>\n",
              "    </tr>\n",
              "  </thead>\n",
              "  <tbody>\n",
              "    <tr>\n",
              "      <th>0</th>\n",
              "      <td>train-TLDR_RS_2019-02-45730.json</td>\n",
              "      <td>[so i just had the thought of what if people c...</td>\n",
              "      <td>name a new eve every 2 - 5 generations so that...</td>\n",
              "      <td>[0, 0, 1, 0, 0]</td>\n",
              "      <td>[0.14523170130000002, 0.0821840568, 0.47712410...</td>\n",
              "      <td>[so i just had the thought of what if people c...</td>\n",
              "      <td>[[so, i, just, had, the, thought, of, what, if...</td>\n",
              "      <td>[[thought, people, could, name, children, even...</td>\n",
              "      <td>[[thought, people, could, name, child, even, c...</td>\n",
              "    </tr>\n",
              "  </tbody>\n",
              "</table>\n",
              "</div>\n",
              "      <button class=\"colab-df-convert\" onclick=\"convertToInteractive('df-99aefc89-4f9b-4e29-b90d-95902e3736d6')\"\n",
              "              title=\"Convert this dataframe to an interactive table.\"\n",
              "              style=\"display:none;\">\n",
              "        \n",
              "  <svg xmlns=\"http://www.w3.org/2000/svg\" height=\"24px\"viewBox=\"0 0 24 24\"\n",
              "       width=\"24px\">\n",
              "    <path d=\"M0 0h24v24H0V0z\" fill=\"none\"/>\n",
              "    <path d=\"M18.56 5.44l.94 2.06.94-2.06 2.06-.94-2.06-.94-.94-2.06-.94 2.06-2.06.94zm-11 1L8.5 8.5l.94-2.06 2.06-.94-2.06-.94L8.5 2.5l-.94 2.06-2.06.94zm10 10l.94 2.06.94-2.06 2.06-.94-2.06-.94-.94-2.06-.94 2.06-2.06.94z\"/><path d=\"M17.41 7.96l-1.37-1.37c-.4-.4-.92-.59-1.43-.59-.52 0-1.04.2-1.43.59L10.3 9.45l-7.72 7.72c-.78.78-.78 2.05 0 2.83L4 21.41c.39.39.9.59 1.41.59.51 0 1.02-.2 1.41-.59l7.78-7.78 2.81-2.81c.8-.78.8-2.07 0-2.86zM5.41 20L4 18.59l7.72-7.72 1.47 1.35L5.41 20z\"/>\n",
              "  </svg>\n",
              "      </button>\n",
              "      \n",
              "  <style>\n",
              "    .colab-df-container {\n",
              "      display:flex;\n",
              "      flex-wrap:wrap;\n",
              "      gap: 12px;\n",
              "    }\n",
              "\n",
              "    .colab-df-convert {\n",
              "      background-color: #E8F0FE;\n",
              "      border: none;\n",
              "      border-radius: 50%;\n",
              "      cursor: pointer;\n",
              "      display: none;\n",
              "      fill: #1967D2;\n",
              "      height: 32px;\n",
              "      padding: 0 0 0 0;\n",
              "      width: 32px;\n",
              "    }\n",
              "\n",
              "    .colab-df-convert:hover {\n",
              "      background-color: #E2EBFA;\n",
              "      box-shadow: 0px 1px 2px rgba(60, 64, 67, 0.3), 0px 1px 3px 1px rgba(60, 64, 67, 0.15);\n",
              "      fill: #174EA6;\n",
              "    }\n",
              "\n",
              "    [theme=dark] .colab-df-convert {\n",
              "      background-color: #3B4455;\n",
              "      fill: #D2E3FC;\n",
              "    }\n",
              "\n",
              "    [theme=dark] .colab-df-convert:hover {\n",
              "      background-color: #434B5C;\n",
              "      box-shadow: 0px 1px 3px 1px rgba(0, 0, 0, 0.15);\n",
              "      filter: drop-shadow(0px 1px 2px rgba(0, 0, 0, 0.3));\n",
              "      fill: #FFFFFF;\n",
              "    }\n",
              "  </style>\n",
              "\n",
              "      <script>\n",
              "        const buttonEl =\n",
              "          document.querySelector('#df-99aefc89-4f9b-4e29-b90d-95902e3736d6 button.colab-df-convert');\n",
              "        buttonEl.style.display =\n",
              "          google.colab.kernel.accessAllowed ? 'block' : 'none';\n",
              "\n",
              "        async function convertToInteractive(key) {\n",
              "          const element = document.querySelector('#df-99aefc89-4f9b-4e29-b90d-95902e3736d6');\n",
              "          const dataTable =\n",
              "            await google.colab.kernel.invokeFunction('convertToInteractive',\n",
              "                                                     [key], {});\n",
              "          if (!dataTable) return;\n",
              "\n",
              "          const docLinkHtml = 'Like what you see? Visit the ' +\n",
              "            '<a target=\"_blank\" href=https://colab.research.google.com/notebooks/data_table.ipynb>data table notebook</a>'\n",
              "            + ' to learn more about interactive tables.';\n",
              "          element.innerHTML = '';\n",
              "          dataTable['output_type'] = 'display_data';\n",
              "          await google.colab.output.renderOutput(dataTable, element);\n",
              "          const docLink = document.createElement('div');\n",
              "          docLink.innerHTML = docLinkHtml;\n",
              "          element.appendChild(docLink);\n",
              "        }\n",
              "      </script>\n",
              "    </div>\n",
              "  </div>\n",
              "  "
            ]
          },
          "metadata": {},
          "execution_count": 63
        }
      ]
    },
    {
      "cell_type": "markdown",
      "source": [
        "# POS tagging"
      ],
      "metadata": {
        "id": "FyQCoLK1BLHT"
      }
    },
    {
      "cell_type": "markdown",
      "source": [
        "## Library import"
      ],
      "metadata": {
        "id": "bO19XNdYFde1"
      }
    },
    {
      "cell_type": "code",
      "source": [
        "import nltk\n",
        "nltk.download('averaged_perceptron_tagger')\n",
        "nltk.download('tagsets')\n",
        "nltk.download('universal_tagset')"
      ],
      "metadata": {
        "colab": {
          "base_uri": "https://localhost:8080/"
        },
        "id": "ejt8WzZkBVEO",
        "outputId": "97b771df-f1a1-44aa-98d1-e8a17e442d81"
      },
      "execution_count": 49,
      "outputs": [
        {
          "output_type": "stream",
          "name": "stderr",
          "text": [
            "[nltk_data] Downloading package averaged_perceptron_tagger to\n",
            "[nltk_data]     /root/nltk_data...\n",
            "[nltk_data]   Package averaged_perceptron_tagger is already up-to-\n",
            "[nltk_data]       date!\n",
            "[nltk_data] Downloading package tagsets to /root/nltk_data...\n",
            "[nltk_data]   Package tagsets is already up-to-date!\n",
            "[nltk_data] Downloading package universal_tagset to /root/nltk_data...\n",
            "[nltk_data]   Unzipping taggers/universal_tagset.zip.\n"
          ]
        },
        {
          "output_type": "execute_result",
          "data": {
            "text/plain": [
              "True"
            ]
          },
          "metadata": {},
          "execution_count": 49
        }
      ]
    },
    {
      "cell_type": "markdown",
      "source": [
        "Serve per estrarre il solo tag dalla coppia (word,tag) restituita dal *nltk.tag.pos_tag_sents*"
      ],
      "metadata": {
        "id": "aueyjTJaYQ5h"
      }
    },
    {
      "cell_type": "code",
      "source": [
        "def extract_tags(document_tags: list):\n",
        "  doc_tags = pd.Series(document_tags)\n",
        "  doc_tags = doc_tags.apply(lambda subList: pd.Series(subList))\n",
        "  doc_tags = doc_tags.applymap(lambda wordTagTuple: wordTagTuple[1] if type(wordTagTuple)==tuple else '')\n",
        "  return doc_tags.values"
      ],
      "metadata": {
        "id": "QiJbhInBR9iD"
      },
      "execution_count": 128,
      "outputs": []
    },
    {
      "cell_type": "markdown",
      "source": [
        "Lavora direttamente su una lista di frasi (ovvero il documento), in questo modo èpiù efficiente"
      ],
      "metadata": {
        "id": "Rkg0bnr2YFsW"
      }
    },
    {
      "cell_type": "code",
      "source": [
        "def POS_tagging(document: list, tagset:str = 'universal', lang:str='eng'):\n",
        "  POS_tags = nltk.tag.pos_tag_sents(document, tagset=tagset, lang=lang)\n",
        "  POS_tags = extract_tags(POS_tags)\n",
        "  return POS_tags"
      ],
      "metadata": {
        "id": "gTmUZb7FO0_4"
      },
      "execution_count": 130,
      "outputs": []
    },
    {
      "cell_type": "code",
      "source": [
        "train_lemmatized.apply(POS_tagging)"
      ],
      "metadata": {
        "colab": {
          "base_uri": "https://localhost:8080/"
        },
        "id": "SyXkrTRpFzdU",
        "outputId": "6f8133ed-9735-46ad-a895-29d62bf5e2ab"
      },
      "execution_count": 131,
      "outputs": [
        {
          "output_type": "stream",
          "name": "stderr",
          "text": [
            "<ipython-input-128-30dcbc3a4af6>:3: DeprecationWarning: The default dtype for empty Series will be 'object' instead of 'float64' in a future version. Specify a dtype explicitly to silence this warning.\n",
            "  doc_tags = doc_tags.apply(lambda subList: pd.Series(subList))\n"
          ]
        },
        {
          "output_type": "execute_result",
          "data": {
            "text/plain": [
              "0     [[NOUN, VERB, NOUN, NOUN, NOUN, VERB, NOUN, , ...\n",
              "1     [[NOUN, VERB, NOUN, ADV, VERB, , , , , , , , ,...\n",
              "2     [[NOUN, VERB, VERB, NOUN, NOUN, NOUN, ADJ, NOU...\n",
              "3     [[NOUN, NOUN, ADV, VERB, ADV, NOUN, VERB, VERB...\n",
              "4     [[ADJ, NOUN, , , , , , , , , , , ], [NOUN, ADV...\n",
              "                            ...                        \n",
              "95    [[VERB, NOUN, VERB, NOUN, , , , , , , , , , , ...\n",
              "96    [[ADJ, VERB, NOUN, NOUN, ADJ, NOUN, ADJ, NOUN,...\n",
              "97    [[ADV, VERB, VERB, ADJ, ADJ, NOUN, NOUN, VERB,...\n",
              "98    [[VERB, NOUN, , , , , , , , , , , , , , , , , ...\n",
              "99    [[VERB, ADV, VERB, NOUN, VERB, NOUN, , , , , ]...\n",
              "Name: document_lemmatized, Length: 100, dtype: object"
            ]
          },
          "metadata": {},
          "execution_count": 131
        }
      ]
    },
    {
      "cell_type": "markdown",
      "source": [
        "# Text Summarization"
      ],
      "metadata": {
        "id": "FFjEnlOkBPqd"
      }
    }
  ]
}