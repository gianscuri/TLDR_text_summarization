{
 "cells": [
  {
   "attachments": {},
   "cell_type": "markdown",
   "metadata": {},
   "source": [
    "# 0. Setup e importazione"
   ]
  },
  {
   "cell_type": "code",
   "execution_count": 143,
   "metadata": {},
   "outputs": [
    {
     "name": "stderr",
     "output_type": "stream",
     "text": [
      "[nltk_data] Downloading package punkt to\n",
      "[nltk_data]     C:\\Users\\giorg\\AppData\\Roaming\\nltk_data...\n",
      "[nltk_data]   Package punkt is already up-to-date!\n",
      "[nltk_data] Downloading package wordnet to\n",
      "[nltk_data]     C:\\Users\\giorg\\AppData\\Roaming\\nltk_data...\n",
      "[nltk_data]   Package wordnet is already up-to-date!\n",
      "[nltk_data] Downloading package stopwords to\n",
      "[nltk_data]     C:\\Users\\giorg\\AppData\\Roaming\\nltk_data...\n",
      "[nltk_data]   Package stopwords is already up-to-date!\n"
     ]
    }
   ],
   "source": [
    "# base\n",
    "import os\n",
    "import json\n",
    "import pandas as pd\n",
    "import pprint\n",
    "import seaborn as sns\n",
    "import numpy as np \n",
    "from collections import Counter \n",
    "from matplotlib import pyplot as plt\n",
    "import statistics\n",
    "\n",
    "# nlp\n",
    "import re\n",
    "import nltk\n",
    "from nltk.tokenize import word_tokenize \n",
    "nltk.download('punkt')\n",
    "from nltk import word_tokenize\n",
    "from nltk.stem import WordNetLemmatizer \n",
    "nltk.download('wordnet')\n",
    "from nltk.corpus import stopwords\n",
    "import gensim\n",
    "from gensim.utils import simple_preprocess\n",
    "import gensim.corpora as corpora\n",
    "\n",
    "# download\n",
    "\n",
    "# Scarica il corpus delle stopwords inglesi\n",
    "nltk.download('stopwords')\n",
    "# Ottieni la lista delle stopwords inglesi\n",
    "stop_words_en = stopwords.words('english')"
   ]
  },
  {
   "cell_type": "code",
   "execution_count": 38,
   "metadata": {},
   "outputs": [],
   "source": [
    "files = [os.path.join(dirpath,f) for (dirpath, dirnames, filenames) in os.walk(\"Dataset_TLDRHQ/\") for f in filenames]\n",
    "#files = files[0:100] # subset composed of train, val, test\n",
    "\n",
    "test = pd.DataFrame()\n",
    "train = pd.DataFrame()\n",
    "val = pd.DataFrame()\n",
    "\n",
    "for file in files:\n",
    "    temp = pd.read_json(file, lines=True)\n",
    "    temp.set_index(\"id\", inplace=True)\n",
    "        \n",
    "    if \"test\" in file:\n",
    "        test = pd.concat([test, temp])\n",
    "    if \"train\" in file:\n",
    "        train = pd.concat([train, temp])\n",
    "    else:\n",
    "        val = pd.concat([val, temp])\n",
    "    \n",
    "corpus = {'train': train,\n",
    "              'val': val,\n",
    "                'test': test}"
   ]
  },
  {
   "cell_type": "code",
   "execution_count": 39,
   "metadata": {},
   "outputs": [],
   "source": [
    "for ds in corpus:\n",
    "    # Roporta id come colonna\n",
    "    ds = ds.reset_index()\n",
    "    # Rimozione colonne inutili\n",
    "    # columns = ds.columns.tolist()\n",
    "    # columns = [col for col in columns if col not in [\"document\", \"id\"]]\n",
    "    # ds.drop(columns, axis=1, inplace=True)\n"
   ]
  },
  {
   "attachments": {},
   "cell_type": "markdown",
   "metadata": {},
   "source": [
    "# 1. Exploration"
   ]
  },
  {
   "attachments": {},
   "cell_type": "markdown",
   "metadata": {},
   "source": [
    "## 1.1 Basic Exploration and Statistics"
   ]
  },
  {
   "cell_type": "code",
   "execution_count": 41,
   "metadata": {},
   "outputs": [
    {
     "data": {
      "text/html": [
       "<div>\n",
       "<style scoped>\n",
       "    .dataframe tbody tr th:only-of-type {\n",
       "        vertical-align: middle;\n",
       "    }\n",
       "\n",
       "    .dataframe tbody tr th {\n",
       "        vertical-align: top;\n",
       "    }\n",
       "\n",
       "    .dataframe thead th {\n",
       "        text-align: right;\n",
       "    }\n",
       "</style>\n",
       "<table border=\"1\" class=\"dataframe\">\n",
       "  <thead>\n",
       "    <tr style=\"text-align: right;\">\n",
       "      <th></th>\n",
       "      <th>id</th>\n",
       "      <th>document</th>\n",
       "      <th>summary</th>\n",
       "      <th>ext_labels</th>\n",
       "      <th>rg_labels</th>\n",
       "    </tr>\n",
       "  </thead>\n",
       "  <tbody>\n",
       "    <tr>\n",
       "      <th>0</th>\n",
       "      <td>train-TLDR_RS_2019-02-45730.json</td>\n",
       "      <td>so i just had the thought of what if people co...</td>\n",
       "      <td>name a new eve every 2 - 5 generations so that...</td>\n",
       "      <td>[0, 0, 1, 0, 0]</td>\n",
       "      <td>[0.145231701293733, 0.082184056849748, 0.47712...</td>\n",
       "    </tr>\n",
       "    <tr>\n",
       "      <th>1</th>\n",
       "      <td>train-TLDR_RC_2011-05-cm-12238.json</td>\n",
       "      <td>this is kind of an interesting topic for me , ...</td>\n",
       "      <td>my mom is crazy , hates me , wishes she would ...</td>\n",
       "      <td>[0, 0, 0, 1, 0, 0, 0, 0, 0, 0, 0, 0, 0, 0, 0, ...</td>\n",
       "      <td>[0.053637180715166, 0.025363965159833003, 0.02...</td>\n",
       "    </tr>\n",
       "    <tr>\n",
       "      <th>2</th>\n",
       "      <td>train-TLDR_RC_2020-06-04-cm-1657.json</td>\n",
       "      <td>i was running a campaign for my friends and fa...</td>\n",
       "      <td>the alchemist gave the warlock cocaine to keep...</td>\n",
       "      <td>[0, 0, 0, 1, 0]</td>\n",
       "      <td>[0.0, 0.096297655087828, 0.17063644555607402, ...</td>\n",
       "    </tr>\n",
       "    <tr>\n",
       "      <th>3</th>\n",
       "      <td>train-TLDR_RC_2019-12-cm-45553.json</td>\n",
       "      <td>i ve tried and failed at a lot of things .&lt;/s&gt;...</td>\n",
       "      <td>is this dumb fuckin juul is the only thing tha...</td>\n",
       "      <td>[0, 0, 0, 0, 0, 0, 1, 0, 0, 0, 0, 0, 0, 0, 0]</td>\n",
       "      <td>[0.027738905810231, 0.066785729204345, 0.03698...</td>\n",
       "    </tr>\n",
       "    <tr>\n",
       "      <th>4</th>\n",
       "      <td>train-TLDR_RS_2013-04-21129.json</td>\n",
       "      <td>( sorry for the wall of text , i 'm upset and ...</td>\n",
       "      <td>my bf believes that we are eventually going to...</td>\n",
       "      <td>[1, 0, 0, 0, 0, 0, 0, 0, 1, 0]</td>\n",
       "      <td>[0.294148746317319, 0.070204034502615, 0.02593...</td>\n",
       "    </tr>\n",
       "  </tbody>\n",
       "</table>\n",
       "</div>"
      ],
      "text/plain": [
       "                                      id  \\\n",
       "0       train-TLDR_RS_2019-02-45730.json   \n",
       "1    train-TLDR_RC_2011-05-cm-12238.json   \n",
       "2  train-TLDR_RC_2020-06-04-cm-1657.json   \n",
       "3    train-TLDR_RC_2019-12-cm-45553.json   \n",
       "4       train-TLDR_RS_2013-04-21129.json   \n",
       "\n",
       "                                            document  \\\n",
       "0  so i just had the thought of what if people co...   \n",
       "1  this is kind of an interesting topic for me , ...   \n",
       "2  i was running a campaign for my friends and fa...   \n",
       "3  i ve tried and failed at a lot of things .</s>...   \n",
       "4  ( sorry for the wall of text , i 'm upset and ...   \n",
       "\n",
       "                                             summary  \\\n",
       "0  name a new eve every 2 - 5 generations so that...   \n",
       "1  my mom is crazy , hates me , wishes she would ...   \n",
       "2  the alchemist gave the warlock cocaine to keep...   \n",
       "3  is this dumb fuckin juul is the only thing tha...   \n",
       "4  my bf believes that we are eventually going to...   \n",
       "\n",
       "                                          ext_labels  \\\n",
       "0                                    [0, 0, 1, 0, 0]   \n",
       "1  [0, 0, 0, 1, 0, 0, 0, 0, 0, 0, 0, 0, 0, 0, 0, ...   \n",
       "2                                    [0, 0, 0, 1, 0]   \n",
       "3      [0, 0, 0, 0, 0, 0, 1, 0, 0, 0, 0, 0, 0, 0, 0]   \n",
       "4                     [1, 0, 0, 0, 0, 0, 0, 0, 1, 0]   \n",
       "\n",
       "                                           rg_labels  \n",
       "0  [0.145231701293733, 0.082184056849748, 0.47712...  \n",
       "1  [0.053637180715166, 0.025363965159833003, 0.02...  \n",
       "2  [0.0, 0.096297655087828, 0.17063644555607402, ...  \n",
       "3  [0.027738905810231, 0.066785729204345, 0.03698...  \n",
       "4  [0.294148746317319, 0.070204034502615, 0.02593...  "
      ]
     },
     "execution_count": 41,
     "metadata": {},
     "output_type": "execute_result"
    }
   ],
   "source": [
    "val.head()"
   ]
  },
  {
   "cell_type": "code",
   "execution_count": 42,
   "metadata": {},
   "outputs": [
    {
     "data": {
      "text/html": [
       "<div>\n",
       "<style scoped>\n",
       "    .dataframe tbody tr th:only-of-type {\n",
       "        vertical-align: middle;\n",
       "    }\n",
       "\n",
       "    .dataframe tbody tr th {\n",
       "        vertical-align: top;\n",
       "    }\n",
       "\n",
       "    .dataframe thead th {\n",
       "        text-align: right;\n",
       "    }\n",
       "</style>\n",
       "<table border=\"1\" class=\"dataframe\">\n",
       "  <thead>\n",
       "    <tr style=\"text-align: right;\">\n",
       "      <th></th>\n",
       "      <th>id</th>\n",
       "      <th>document</th>\n",
       "      <th>summary</th>\n",
       "      <th>ext_labels</th>\n",
       "      <th>rg_labels</th>\n",
       "    </tr>\n",
       "  </thead>\n",
       "  <tbody>\n",
       "    <tr>\n",
       "      <th>0</th>\n",
       "      <td>train-TLDR_RS_2019-02-45730.json</td>\n",
       "      <td>so i just had the thought of what if people co...</td>\n",
       "      <td>name a new eve every 2 - 5 generations so that...</td>\n",
       "      <td>[0, 0, 1, 0, 0]</td>\n",
       "      <td>[0.145231701293733, 0.082184056849748, 0.47712...</td>\n",
       "    </tr>\n",
       "    <tr>\n",
       "      <th>1</th>\n",
       "      <td>train-TLDR_RC_2011-05-cm-12238.json</td>\n",
       "      <td>this is kind of an interesting topic for me , ...</td>\n",
       "      <td>my mom is crazy , hates me , wishes she would ...</td>\n",
       "      <td>[0, 0, 0, 1, 0, 0, 0, 0, 0, 0, 0, 0, 0, 0, 0, ...</td>\n",
       "      <td>[0.053637180715166, 0.025363965159833003, 0.02...</td>\n",
       "    </tr>\n",
       "    <tr>\n",
       "      <th>2</th>\n",
       "      <td>train-TLDR_RC_2020-06-04-cm-1657.json</td>\n",
       "      <td>i was running a campaign for my friends and fa...</td>\n",
       "      <td>the alchemist gave the warlock cocaine to keep...</td>\n",
       "      <td>[0, 0, 0, 1, 0]</td>\n",
       "      <td>[0.0, 0.096297655087828, 0.17063644555607402, ...</td>\n",
       "    </tr>\n",
       "    <tr>\n",
       "      <th>3</th>\n",
       "      <td>train-TLDR_RC_2019-12-cm-45553.json</td>\n",
       "      <td>i ve tried and failed at a lot of things .&lt;/s&gt;...</td>\n",
       "      <td>is this dumb fuckin juul is the only thing tha...</td>\n",
       "      <td>[0, 0, 0, 0, 0, 0, 1, 0, 0, 0, 0, 0, 0, 0, 0]</td>\n",
       "      <td>[0.027738905810231, 0.066785729204345, 0.03698...</td>\n",
       "    </tr>\n",
       "    <tr>\n",
       "      <th>4</th>\n",
       "      <td>train-TLDR_RS_2013-04-21129.json</td>\n",
       "      <td>( sorry for the wall of text , i 'm upset and ...</td>\n",
       "      <td>my bf believes that we are eventually going to...</td>\n",
       "      <td>[1, 0, 0, 0, 0, 0, 0, 0, 1, 0]</td>\n",
       "      <td>[0.294148746317319, 0.070204034502615, 0.02593...</td>\n",
       "    </tr>\n",
       "  </tbody>\n",
       "</table>\n",
       "</div>"
      ],
      "text/plain": [
       "                                      id  \\\n",
       "0       train-TLDR_RS_2019-02-45730.json   \n",
       "1    train-TLDR_RC_2011-05-cm-12238.json   \n",
       "2  train-TLDR_RC_2020-06-04-cm-1657.json   \n",
       "3    train-TLDR_RC_2019-12-cm-45553.json   \n",
       "4       train-TLDR_RS_2013-04-21129.json   \n",
       "\n",
       "                                            document  \\\n",
       "0  so i just had the thought of what if people co...   \n",
       "1  this is kind of an interesting topic for me , ...   \n",
       "2  i was running a campaign for my friends and fa...   \n",
       "3  i ve tried and failed at a lot of things .</s>...   \n",
       "4  ( sorry for the wall of text , i 'm upset and ...   \n",
       "\n",
       "                                             summary  \\\n",
       "0  name a new eve every 2 - 5 generations so that...   \n",
       "1  my mom is crazy , hates me , wishes she would ...   \n",
       "2  the alchemist gave the warlock cocaine to keep...   \n",
       "3  is this dumb fuckin juul is the only thing tha...   \n",
       "4  my bf believes that we are eventually going to...   \n",
       "\n",
       "                                          ext_labels  \\\n",
       "0                                    [0, 0, 1, 0, 0]   \n",
       "1  [0, 0, 0, 1, 0, 0, 0, 0, 0, 0, 0, 0, 0, 0, 0, ...   \n",
       "2                                    [0, 0, 0, 1, 0]   \n",
       "3      [0, 0, 0, 0, 0, 0, 1, 0, 0, 0, 0, 0, 0, 0, 0]   \n",
       "4                     [1, 0, 0, 0, 0, 0, 0, 0, 1, 0]   \n",
       "\n",
       "                                           rg_labels  \n",
       "0  [0.145231701293733, 0.082184056849748, 0.47712...  \n",
       "1  [0.053637180715166, 0.025363965159833003, 0.02...  \n",
       "2  [0.0, 0.096297655087828, 0.17063644555607402, ...  \n",
       "3  [0.027738905810231, 0.066785729204345, 0.03698...  \n",
       "4  [0.294148746317319, 0.070204034502615, 0.02593...  "
      ]
     },
     "execution_count": 42,
     "metadata": {},
     "output_type": "execute_result"
    }
   ],
   "source": [
    "test.head()"
   ]
  },
  {
   "cell_type": "code",
   "execution_count": 115,
   "metadata": {},
   "outputs": [
    {
     "data": {
      "text/html": [
       "<div>\n",
       "<style scoped>\n",
       "    .dataframe tbody tr th:only-of-type {\n",
       "        vertical-align: middle;\n",
       "    }\n",
       "\n",
       "    .dataframe tbody tr th {\n",
       "        vertical-align: top;\n",
       "    }\n",
       "\n",
       "    .dataframe thead th {\n",
       "        text-align: right;\n",
       "    }\n",
       "</style>\n",
       "<table border=\"1\" class=\"dataframe\">\n",
       "  <thead>\n",
       "    <tr style=\"text-align: right;\">\n",
       "      <th></th>\n",
       "      <th>id</th>\n",
       "      <th>document</th>\n",
       "      <th>summary</th>\n",
       "      <th>ext_labels</th>\n",
       "      <th>rg_labels</th>\n",
       "    </tr>\n",
       "  </thead>\n",
       "  <tbody>\n",
       "    <tr>\n",
       "      <th>0</th>\n",
       "      <td>train-TLDR_RS_2019-07-25907.json</td>\n",
       "      <td>hey y' all , i 've been a lurker in this commu...</td>\n",
       "      <td>i 'm publishing betas of some stuff i 've been...</td>\n",
       "      <td>[0, 0, 0, 1, 0, 0, 0, 0, 0, 0, 0, 0, 0, 0, 0, ...</td>\n",
       "      <td>[0.040456223279431006, 0.022386650144119002, 0...</td>\n",
       "    </tr>\n",
       "    <tr>\n",
       "      <th>1</th>\n",
       "      <td>train-TLDR_RS_2011-07-7721.json</td>\n",
       "      <td>as the title says , dreams that really scared ...</td>\n",
       "      <td>dreamed i was a cop that got shot in the face ...</td>\n",
       "      <td>[1, 1, 0, 0, 1]</td>\n",
       "      <td>[0.17657869627445003, 0.382656749215711, 0.157...</td>\n",
       "    </tr>\n",
       "    <tr>\n",
       "      <th>2</th>\n",
       "      <td>train-TLDR_RC_2019-08-cm-9972.json</td>\n",
       "      <td>from u / orangejews4u here 's my \" must read \"...</td>\n",
       "      <td>not worth ) ] ( https://www.reddit.com/r/howto...</td>\n",
       "      <td>[0, 1, 0, 1]</td>\n",
       "      <td>[0.23651113155692202, 0.336435558104879, 0.165...</td>\n",
       "    </tr>\n",
       "    <tr>\n",
       "      <th>3</th>\n",
       "      <td>train-TLDR_RS_2015-04-39164.json</td>\n",
       "      <td>hello / r / relationships , i did n't really k...</td>\n",
       "      <td>wife wants a break , has started going out par...</td>\n",
       "      <td>[0, 0, 0, 0, 0, 0, 0, 0, 0, 0, 0, 0, 0, 0, 0, ...</td>\n",
       "      <td>[0.044352260202115, 0.016666897769790003, 0.02...</td>\n",
       "    </tr>\n",
       "    <tr>\n",
       "      <th>4</th>\n",
       "      <td>train-TLDR_RC_2016-05-cm-45089.json</td>\n",
       "      <td>i agree with you to be honest .&lt;/s&gt;&lt;s&gt; my dad ...</td>\n",
       "      <td>i agree with you . regular dad things . some s...</td>\n",
       "      <td>[1, 0, 0, 0, 0, 0, 1, 0, 0, 0, 0, 0]</td>\n",
       "      <td>[0.43353065193323603, 0.054993317369966, 0.047...</td>\n",
       "    </tr>\n",
       "  </tbody>\n",
       "</table>\n",
       "</div>"
      ],
      "text/plain": [
       "                                    id  \\\n",
       "0     train-TLDR_RS_2019-07-25907.json   \n",
       "1      train-TLDR_RS_2011-07-7721.json   \n",
       "2   train-TLDR_RC_2019-08-cm-9972.json   \n",
       "3     train-TLDR_RS_2015-04-39164.json   \n",
       "4  train-TLDR_RC_2016-05-cm-45089.json   \n",
       "\n",
       "                                            document  \\\n",
       "0  hey y' all , i 've been a lurker in this commu...   \n",
       "1  as the title says , dreams that really scared ...   \n",
       "2  from u / orangejews4u here 's my \" must read \"...   \n",
       "3  hello / r / relationships , i did n't really k...   \n",
       "4  i agree with you to be honest .</s><s> my dad ...   \n",
       "\n",
       "                                             summary  \\\n",
       "0  i 'm publishing betas of some stuff i 've been...   \n",
       "1  dreamed i was a cop that got shot in the face ...   \n",
       "2  not worth ) ] ( https://www.reddit.com/r/howto...   \n",
       "3  wife wants a break , has started going out par...   \n",
       "4  i agree with you . regular dad things . some s...   \n",
       "\n",
       "                                          ext_labels  \\\n",
       "0  [0, 0, 0, 1, 0, 0, 0, 0, 0, 0, 0, 0, 0, 0, 0, ...   \n",
       "1                                    [1, 1, 0, 0, 1]   \n",
       "2                                       [0, 1, 0, 1]   \n",
       "3  [0, 0, 0, 0, 0, 0, 0, 0, 0, 0, 0, 0, 0, 0, 0, ...   \n",
       "4               [1, 0, 0, 0, 0, 0, 1, 0, 0, 0, 0, 0]   \n",
       "\n",
       "                                           rg_labels  \n",
       "0  [0.040456223279431006, 0.022386650144119002, 0...  \n",
       "1  [0.17657869627445003, 0.382656749215711, 0.157...  \n",
       "2  [0.23651113155692202, 0.336435558104879, 0.165...  \n",
       "3  [0.044352260202115, 0.016666897769790003, 0.02...  \n",
       "4  [0.43353065193323603, 0.054993317369966, 0.047...  "
      ]
     },
     "execution_count": 115,
     "metadata": {},
     "output_type": "execute_result"
    }
   ],
   "source": [
    "train.head()"
   ]
  },
  {
   "attachments": {},
   "cell_type": "markdown",
   "metadata": {},
   "source": [
    "Check shape and dtypes"
   ]
  },
  {
   "cell_type": "code",
   "execution_count": 57,
   "metadata": {},
   "outputs": [
    {
     "name": "stdout",
     "output_type": "stream",
     "text": [
      "Key:  train\n",
      "Shape:  (1590132, 5)\n",
      "Dtypes:  id            object\n",
      "document      object\n",
      "summary       object\n",
      "ext_labels    object\n",
      "rg_labels     object\n",
      "dtype: object\n",
      "Key:  val\n",
      "Shape:  (80967, 5)\n",
      "Dtypes:  id            object\n",
      "document      object\n",
      "summary       object\n",
      "ext_labels    object\n",
      "rg_labels     object\n",
      "dtype: object\n",
      "Key:  test\n",
      "Shape:  (40486, 5)\n",
      "Dtypes:  id            object\n",
      "document      object\n",
      "summary       object\n",
      "ext_labels    object\n",
      "rg_labels     object\n",
      "dtype: object\n"
     ]
    }
   ],
   "source": [
    "# iterate on corpus dict of dataframe and print key value and dataframe shape and dtypes \n",
    "for key, value in corpus.items():\n",
    "    print(\"Key: \", key)\n",
    "    print(\"Shape: \", value.shape)\n",
    "    print(\"Dtypes: \", value.dtypes)"
   ]
  },
  {
   "attachments": {},
   "cell_type": "markdown",
   "metadata": {},
   "source": [
    "Memory usage dei dataset"
   ]
  },
  {
   "cell_type": "code",
   "execution_count": 58,
   "metadata": {},
   "outputs": [
    {
     "name": "stdout",
     "output_type": "stream",
     "text": [
      "Total memory usage: 3.8 GB\n",
      "Total memory usage: 196.9 MB\n",
      "Total memory usage: 99.0 MB\n"
     ]
    }
   ],
   "source": [
    "import humanize\n",
    "\n",
    "def print_memory_usage(df):\n",
    "  print(f\"Total memory usage: {humanize.naturalsize(df.memory_usage(deep=True).sum())}\")\n",
    "  # print(f\"Memory usage by column:\")\n",
    "  # print(df.memory_usage(deep=True))\n",
    "\n",
    "print_memory_usage(train)\n",
    "print_memory_usage(val)\n",
    "print_memory_usage(test)"
   ]
  },
  {
   "attachments": {},
   "cell_type": "markdown",
   "metadata": {},
   "source": [
    "Temporanea rimozione del ds più oneroso"
   ]
  },
  {
   "cell_type": "code",
   "execution_count": 33,
   "metadata": {},
   "outputs": [],
   "source": [
    "del train"
   ]
  },
  {
   "attachments": {},
   "cell_type": "markdown",
   "metadata": {},
   "source": [
    "## Check ext_labels nulle"
   ]
  },
  {
   "attachments": {},
   "cell_type": "markdown",
   "metadata": {},
   "source": [
    "alcuni post hanno come ext_labels una lista di 0, in pratica nessuna frase è stata scelta per il sommario. Associate per lo più a post \"corti\"."
   ]
  },
  {
   "cell_type": "code",
   "execution_count": 61,
   "metadata": {},
   "outputs": [
    {
     "data": {
      "text/plain": [
       "3"
      ]
     },
     "execution_count": 61,
     "metadata": {},
     "output_type": "execute_result"
    }
   ],
   "source": [
    "sum(train['ext_labels'][1])"
   ]
  },
  {
   "cell_type": "code",
   "execution_count": 69,
   "metadata": {},
   "outputs": [
    {
     "name": "stdout",
     "output_type": "stream",
     "text": [
      "train- number of rows with only 0 values in ext_labels:466/1590132\n",
      "val- number of rows with only 0 values in ext_labels:23/80967\n",
      "test- number of rows with only 0 values in ext_labels:6/40486\n"
     ]
    }
   ],
   "source": [
    "def sum_is_zero(row):\n",
    "  return sum(row['ext_labels']) == 0\n",
    "\n",
    "for key, value in corpus.items():\n",
    "    num_rows = value[value.apply(sum_is_zero, axis=1)].shape[0]\n",
    "    print(f\"{key}- number of rows with only 0 values in ext_labels:{num_rows}/{value.shape[0]}\")"
   ]
  },
  {
   "attachments": {},
   "cell_type": "markdown",
   "metadata": {},
   "source": [
    "## 1.2 Post/Summaries Statistics and Viz"
   ]
  },
  {
   "attachments": {},
   "cell_type": "markdown",
   "metadata": {},
   "source": [
    "## Lunghezza post"
   ]
  },
  {
   "attachments": {},
   "cell_type": "markdown",
   "metadata": {},
   "source": [
    "### Caratteri"
   ]
  },
  {
   "attachments": {},
   "cell_type": "markdown",
   "metadata": {},
   "source": [
    "Verifico presenza di post molto brevi"
   ]
  },
  {
   "cell_type": "code",
   "execution_count": null,
   "metadata": {},
   "outputs": [
    {
     "name": "stdout",
     "output_type": "stream",
     "text": [
      "train - number of short documents:\n",
      "24\n",
      "620646    i really love her .\n",
      "Name: document, dtype: object\n",
      "val - number of short documents:\n",
      "2\n",
      "9299    you 're and idiot .\n",
      "Name: document, dtype: object\n",
      "test - number of short documents:\n",
      "0\n"
     ]
    }
   ],
   "source": [
    "n = 20\n",
    "\n",
    "for key, value in corpus.items():\n",
    "    print(f\"{key} - number of short documents:\")\n",
    "    num_short_documents = len(value[value['document'].apply(len) < 20])\n",
    "    print(num_short_documents)\n",
    "    if num_short_documents != 0:\n",
    "        short_documents = value[value['document'].apply(len) < 20]['document']\n",
    "        # start_index = random.randint(0, len(short_documents) - 5)\n",
    "        #short_documents.iloc[start_index:start_index+5]\n",
    "        print(short_documents.sample())"
   ]
  },
  {
   "attachments": {},
   "cell_type": "markdown",
   "metadata": {},
   "source": [
    "Osserviamo la **distribuzione** delle lunghezze di caratteri dei post"
   ]
  },
  {
   "cell_type": "code",
   "execution_count": null,
   "metadata": {},
   "outputs": [
    {
     "data": {
      "image/png": "[encoded data removed]",
      "text/plain": [
       "<Figure size 500x500 with 1 Axes>"
      ]
     },
     "metadata": {},
     "output_type": "display_data"
    },
    {
     "data": {
      "image/png": "[encoded data removed]",
      "text/plain": [
       "<Figure size 500x500 with 1 Axes>"
      ]
     },
     "metadata": {},
     "output_type": "display_data"
    },
    {
     "data": {
      "image/png": "[encoded data removed]",
      "text/plain": [
       "<Figure size 500x500 with 1 Axes>"
      ]
     },
     "metadata": {},
     "output_type": "display_data"
    }
   ],
   "source": [
    "for key, value in corpus.items():\n",
    "    string_lengths = [len(string) for string in value['document']]\n",
    "    sns.displot(string_lengths)\n",
    "    plt.title(key)"
   ]
  },
  {
   "attachments": {},
   "cell_type": "markdown",
   "metadata": {},
   "source": [
    "### Number of emojis"
   ]
  },
  {
   "attachments": {},
   "cell_type": "markdown",
   "metadata": {},
   "source": [
    "### Number of sentences"
   ]
  },
  {
   "cell_type": "code",
   "execution_count": 158,
   "metadata": {},
   "outputs": [
    {
     "name": "stdout",
     "output_type": "stream",
     "text": [
      "train - sentenctes per document:\n",
      "count    1555030\n",
      "mean          16\n",
      "std           15\n",
      "min            1\n",
      "25%            7\n",
      "50%           11\n",
      "75%           19\n",
      "max          976\n",
      "Name: ext_labels, dtype: object\n",
      "val - sentenctes per document:\n",
      "count    80747\n",
      "mean        16\n",
      "std         15\n",
      "min          1\n",
      "25%          7\n",
      "50%         12\n",
      "75%         20\n",
      "max        493\n",
      "Name: ext_labels, dtype: object\n",
      "test - sentenctes per document:\n",
      "count    40413\n",
      "mean        16\n",
      "std         16\n",
      "min          1\n",
      "25%          7\n",
      "50%         12\n",
      "75%         20\n",
      "max        493\n",
      "Name: ext_labels, dtype: object\n"
     ]
    }
   ],
   "source": [
    "for key, value in corpus.items():\n",
    "    print(f\"{key} - sentenctes per document:\")\n",
    "    sentences = value['ext_labels'].str.len()\n",
    "    print(sentences.describe().apply(\"{0:.0f}\".format))"
   ]
  },
  {
   "attachments": {},
   "cell_type": "markdown",
   "metadata": {},
   "source": [
    "### Number of words"
   ]
  },
  {
   "attachments": {},
   "cell_type": "markdown",
   "metadata": {},
   "source": [
    "Le principali statistiche riguardo il numero di parole per post"
   ]
  },
  {
   "cell_type": "code",
   "execution_count": null,
   "metadata": {},
   "outputs": [],
   "source": [
    "for key, value in corpus.items():\n",
    "    if (key != \"train\"):\n",
    "        print(f\"{key.upper()} - words stats\")\n",
    "        # Calcola il numero di parole inglesi in ogni stringa contenuta in 'document'\n",
    "        english_word_counts = []\n",
    "        for string in value['document']:\n",
    "            # Divide la stringa in parole\n",
    "            words = nltk.word_tokenize(string)\n",
    "            # Conta solo le parole che non sono stopwords\n",
    "            english_word_counts.append(len([word for word in words if word.lower() not in stop_words_en]))\n",
    "\n",
    "        # Utilizza displot di seaborn per plottare la distribuzione del numero di parole inglesi\n",
    "        # sns.displot(english_word_counts)\n",
    "        \n",
    "        stats = statistics.describe(english_word_counts)\n",
    "\n",
    "        # Stampa le statistiche\n",
    "        print(\"Number of elements:\", stats.n)\n",
    "        print(\"Min:\", stats.minmax[0])\n",
    "        print(\"Max:\", stats.minmax[1])\n",
    "        print(\"Mean:\", stats.mean)\n",
    "        print(\"Median:\", stats.median)\n",
    "        print(\"Standard deviation:\", stats.stdev)\n",
    "        print(\"First quartile:\", stats.quartiles[0])\n",
    "        print(\"Third quartile:\", stats.quartiles[2])"
   ]
  },
  {
   "attachments": {},
   "cell_type": "markdown",
   "metadata": {},
   "source": [
    "### Number of word per document"
   ]
  },
  {
   "attachments": {},
   "cell_type": "markdown",
   "metadata": {},
   "source": [
    "# 2. Data Cleaning"
   ]
  },
  {
   "attachments": {},
   "cell_type": "markdown",
   "metadata": {},
   "source": [
    "## 2.1 Duplicati"
   ]
  },
  {
   "attachments": {},
   "cell_type": "markdown",
   "metadata": {},
   "source": [
    "Assenza duplicati in id e documenti"
   ]
  },
  {
   "cell_type": "code",
   "execution_count": 71,
   "metadata": {},
   "outputs": [
    {
     "name": "stdout",
     "output_type": "stream",
     "text": [
      "id\n",
      "train:1590132/1590132\n",
      "val:80967/80967\n",
      "test:40486/40486\n",
      "document\n",
      "train:1555030/1590132\n",
      "val:80747/80967\n",
      "test:40413/40486\n"
     ]
    }
   ],
   "source": [
    "# exploring train, val and test documents\n",
    "# train[\"document\"][0][1:200]\n",
    "\n",
    "print(\"id\")\n",
    "print(\"train:\" + str(len(train['id'].unique())) + \"/\" + str(train.shape[0]))\n",
    "print(\"val:\" + str(len(val['id'].unique())) + \"/\" + str(val.shape[0]))\n",
    "print(\"test:\" + str(len(test['id'].unique())) + \"/\" + str(test.shape[0]))\n",
    "\n",
    "print(\"document\")\n",
    "print(\"train:\" + str(len(train['document'].unique())) + \"/\" + str(train.shape[0]))\n",
    "print(\"val:\" + str(len(val['document'].unique())) + \"/\" + str(val.shape[0]))\n",
    "print(\"test:\" + str(len(test['document'].unique())) + \"/\" + str(test.shape[0]))\n"
   ]
  },
  {
   "attachments": {},
   "cell_type": "markdown",
   "metadata": {},
   "source": [
    "Possibile presenza di duplicati in `document`"
   ]
  },
  {
   "cell_type": "code",
   "execution_count": 107,
   "metadata": {},
   "outputs": [
    {
     "name": "stdout",
     "output_type": "stream",
     "text": [
      "train - number of duplicated documents:0/1555030\n",
      "val - number of duplicated documents:0/80747\n",
      "test - number of duplicated documents:0/40413\n"
     ]
    }
   ],
   "source": [
    "for key, value in corpus.items():\n",
    "    count = value.duplicated(subset = [\"document\"]).sum()\n",
    "    print(f\"{key} - number of duplicated documents:{count}/{value.shape[0]}\")"
   ]
  },
  {
   "cell_type": "code",
   "execution_count": 103,
   "metadata": {},
   "outputs": [
    {
     "name": "stdout",
     "output_type": "stream",
     "text": [
      "key\n",
      "                                                document  count\n",
      "5760   hey there , i 'm a bot and something you said ...    959\n",
      "26242  your post has been removed for the following r...    477\n",
      "26243  your post has been temporarily removed for the...    116\n",
      "70     # let 's make a plan !</s><s> this week 's kic...    113\n",
      "2784   basically it goes a little like this ... i bou...    106\n",
      "key\n",
      "                                              document  count\n",
      "37   hey there , i 'm a bot and something you said ...     43\n",
      "121  your post has been removed for the following r...     24\n",
      "20   basically it goes a little like this ... i bou...      5\n",
      "31   heads up , there are troubling reports of pack...      4\n",
      "122  your post has been temporarily removed for the...      4\n",
      "key\n",
      "                                             document  count\n",
      "14  hey there , i 'm a bot and something you said ...     22\n",
      "37  your post has been removed for the following r...      9\n",
      "3   ** hello , my name is rene i m a professional ...      2\n",
      "1   # let 's make a plan !</s><s> this week 's kic...      2\n",
      "7   basically it goes a little like this ... i bou...      2\n"
     ]
    }
   ],
   "source": [
    "import random\n",
    "\n",
    "for key, value in corpus.items():\n",
    "    print(\"key\")\n",
    "    # generate a random start index\n",
    "    duplicate = value[value.duplicated(subset = [\"document\"])][['document', 'id']]\n",
    "\n",
    "    # printa radomici\n",
    "    #start_index = random.randint(0, len(duplicate_test) - 5)\n",
    "    #duplicate_test.iloc[start_index:start_index+5]\n",
    "\n",
    "    df_grouped = duplicate.groupby('document').size().reset_index(name='count')\n",
    "    df_sorted = df_grouped.sort_values(by='count', ascending=False)\n",
    "    print(df_sorted.head(5))"
   ]
  },
  {
   "attachments": {},
   "cell_type": "markdown",
   "metadata": {},
   "source": [
    "Sembra che questi duplicati siano post ricorrenti / messaggi di bot / post automatici (tipo presentazione, rimozione post):\n",
    "- Procedo alla rimozione"
   ]
  },
  {
   "cell_type": "code",
   "execution_count": 108,
   "metadata": {},
   "outputs": [
    {
     "name": "stdout",
     "output_type": "stream",
     "text": [
      "train - number of duplicated documents:0/1555030\n",
      "val - number of duplicated documents:0/80747\n",
      "test - number of duplicated documents:0/40413\n"
     ]
    }
   ],
   "source": [
    "for key, value in corpus.items():\n",
    "    # remove duplicates from train, val and test\n",
    "    value.drop_duplicates(subset = [\"document\"], inplace=True)\n",
    "    \n",
    "for key, value in corpus.items():\n",
    "    count = value.duplicated(subset = [\"document\"]).sum()\n",
    "    print(f\"{key} - number of duplicated documents:{count}/{value.shape[0]}\")"
   ]
  },
  {
   "attachments": {},
   "cell_type": "markdown",
   "metadata": {},
   "source": [
    "## 2.2 Missing Values"
   ]
  },
  {
   "attachments": {},
   "cell_type": "markdown",
   "metadata": {},
   "source": [
    "Null values"
   ]
  },
  {
   "cell_type": "code",
   "execution_count": 110,
   "metadata": {},
   "outputs": [
    {
     "name": "stdout",
     "output_type": "stream",
     "text": [
      "train - number of null values in columns id and document:\n",
      "id            0\n",
      "document      0\n",
      "summary       0\n",
      "ext_labels    0\n",
      "rg_labels     0\n",
      "dtype: int64\n",
      "val - number of null values in columns id and document:\n",
      "id            0\n",
      "document      0\n",
      "summary       0\n",
      "ext_labels    0\n",
      "rg_labels     0\n",
      "dtype: int64\n",
      "test - number of null values in columns id and document:\n",
      "id            0\n",
      "document      0\n",
      "summary       0\n",
      "ext_labels    0\n",
      "rg_labels     0\n",
      "dtype: int64\n"
     ]
    }
   ],
   "source": [
    "for key, value in corpus.items():\n",
    "    # print number of null values in columns \"id\" and \"document\"\n",
    "    print(f\"{key} - number of null values in columns id and document:\")\n",
    "    print(value.isnull().sum())"
   ]
  },
  {
   "attachments": {},
   "cell_type": "markdown",
   "metadata": {},
   "source": [
    "# 3. Preprocessing"
   ]
  },
  {
   "attachments": {},
   "cell_type": "markdown",
   "metadata": {},
   "source": [
    "## 3.1 Sentences Splitting"
   ]
  },
  {
   "attachments": {},
   "cell_type": "markdown",
   "metadata": {},
   "source": [
    "Ricompongo le frasi trasformando le stringhe in liste di stringhe"
   ]
  },
  {
   "cell_type": "code",
   "execution_count": 146,
   "metadata": {},
   "outputs": [],
   "source": [
    "# test_df = test.copy()\n",
    "# def split_string(string):\n",
    "#     return string.split(\"</s><s>\")\n",
    "\n",
    "# test_df[\"document\"] = test_df[\"document\"].apply(split_string)\n",
    "\n",
    "# print(test_df['document'][0])\n",
    "# type(test_df['document'][0])\n",
    "\n",
    "\n",
    "\n"
   ]
  },
  {
   "cell_type": "code",
   "execution_count": 153,
   "metadata": {},
   "outputs": [],
   "source": [
    "def split_string(string):\n",
    "    return string.split(\"</s><s>\")\n",
    "\n",
    "for key, value in corpus.items():\n",
    "    value[\"document\"] = value[\"document\"].apply(split_string)"
   ]
  },
  {
   "attachments": {},
   "cell_type": "markdown",
   "metadata": {},
   "source": [
    "## 3.2 Normalization / Spelling Correction"
   ]
  },
  {
   "attachments": {},
   "cell_type": "markdown",
   "metadata": {
    "id": "Um5d11nD7b-a"
   },
   "source": [
    "### 3.2.1 Case Folding"
   ]
  },
  {
   "cell_type": "code",
   "execution_count": null,
   "metadata": {
    "id": "xMo7ZTKj7iEN"
   },
   "outputs": [],
   "source": [
    "def to_lower(phrase):\n",
    "  phrase = phrase.lower()\n",
    "  return phrase"
   ]
  },
  {
   "attachments": {},
   "cell_type": "markdown",
   "metadata": {},
   "source": [
    "### Excessive Whitespaces Removal"
   ]
  },
  {
   "attachments": {},
   "cell_type": "markdown",
   "metadata": {
    "id": "T8_h3ihG72e1"
   },
   "source": [
    "### Emoji Removal"
   ]
  },
  {
   "cell_type": "code",
   "execution_count": null,
   "metadata": {
    "id": "rqCDv7iv8EOW"
   },
   "outputs": [],
   "source": [
    "def remove_emoji(phrase):\n",
    "    emoji_pattern = re.compile(\"[\"\n",
    "                               u\"\\U0001F600-\\U0001F64F\"  # emoticons\n",
    "                               u\"\\U0001F300-\\U0001F5FF\"  # symbols & pictographs\n",
    "                               u\"\\U0001F680-\\U0001F6FF\"  # transport & map symbols\n",
    "                               u\"\\U0001F1E0-\\U0001F1FF\"  # flags (iOS)\n",
    "                               u\"\\U00002500-\\U00002BEF\"  # chinese char\n",
    "                               u\"\\U00002702-\\U000027B0\"\n",
    "                               u\"\\U00002702-\\U000027B0\"\n",
    "                               u\"\\U000024C2-\\U0001F251\"\n",
    "                               u\"\\U0001f926-\\U0001f937\"\n",
    "                               u\"\\U00010000-\\U0010ffff\"\n",
    "                               u\"\\u2640-\\u2642\"\n",
    "                               u\"\\u2600-\\u2B55\"\n",
    "                               u\"\\u200d\"\n",
    "                               u\"\\u23cf\"\n",
    "                               u\"\\u23e9\"\n",
    "                               u\"\\u231a\"\n",
    "                               u\"\\ufe0f\"  # dingbats\n",
    "                               u\"\\u3030\"\n",
    "                               \"]+\", flags=re.UNICODE)\n",
    "    return emoji_pattern.sub(r'', phrase)"
   ]
  },
  {
   "attachments": {},
   "cell_type": "markdown",
   "metadata": {
    "id": "cjSvhHPL8bD8"
   },
   "source": [
    "### Numbers Removal"
   ]
  },
  {
   "cell_type": "code",
   "execution_count": null,
   "metadata": {
    "id": "mt5P_Lkj9hMS"
   },
   "outputs": [],
   "source": [
    "def rimozione_numbers(phrase):\n",
    "  removed_numbers=re.sub(r'\\d+', '',phrase)\n",
    "  return phrase"
   ]
  },
  {
   "attachments": {},
   "cell_type": "markdown",
   "metadata": {
    "id": "StjYT_ezRKAu"
   },
   "source": [
    "### Expansion of contractions"
   ]
  },
  {
   "cell_type": "code",
   "execution_count": null,
   "metadata": {
    "id": "tl7oZNoMNovF"
   },
   "outputs": [],
   "source": [
    "def expand_eng_contradictions(phrase):\n",
    "    phrase = re.sub(r\"won\\'t\", \"will not\", phrase)\n",
    "    phrase = re.sub(r\"can\\'t\", \"can not\", phrase)\n",
    "    phrase = re.sub(r\"n\\'t\", \" not\", phrase)\n",
    "    phrase = re.sub(r\"\\'re\", \" are\", phrase)\n",
    "    phrase = re.sub(r\"\\'s\", \" is\", phrase)\n",
    "    phrase = re.sub(r\"\\'d\", \" would\", phrase)\n",
    "    phrase = re.sub(r\"\\'ll\", \" will\", phrase)\n",
    "    phrase = re.sub(r\"\\'t\", \" not\", phrase)\n",
    "    phrase = re.sub(r\"\\'ve\", \" have\", phrase)\n",
    "    phrase = re.sub(r\"\\'m\", \" am\", phrase)\n",
    "    return phrase"
   ]
  },
  {
   "attachments": {},
   "cell_type": "markdown",
   "metadata": {
    "id": "mcpzjLi8RPOU"
   },
   "source": [
    "### HTML Tags Removal"
   ]
  },
  {
   "cell_type": "code",
   "execution_count": null,
   "metadata": {
    "id": "rtaD4aLuRSC4"
   },
   "outputs": [],
   "source": [
    "def remove_html_tags(sentence):\n",
    "    pattern = re.compile(\"<.*?>\") \n",
    "    cleaned_sentence = re.sub(pattern,'',sentence).strip()\n",
    "    return cleaned_sentence\n",
    "\n",
    "def remove_html_entities(sentence):\n",
    "    pattern = re.compile(\"&[a-z0-9]+|&#[0-9]{1,6}|&#x[0-9a-f]{1,6}\")\n",
    "    cleaned_sentence = re.sub(pattern,'',sentence).strip()\n",
    "    return cleaned_sentence"
   ]
  },
  {
   "attachments": {},
   "cell_type": "markdown",
   "metadata": {},
   "source": [
    "### Formatting chars removal"
   ]
  },
  {
   "attachments": {},
   "cell_type": "markdown",
   "metadata": {
    "id": "GpI_jgBSRW1T"
   },
   "source": [
    "### URL Removal"
   ]
  },
  {
   "cell_type": "code",
   "execution_count": null,
   "metadata": {
    "id": "Ah9iMXw1Rfqh"
   },
   "outputs": [],
   "source": [
    "def remove_urls(sentence):\n",
    "    http_pattern = re.compile(r\"http\\S+\") \n",
    "    cleaned_sentence = re.sub(http_pattern,'',sentence).strip()\n",
    "    www_pattern = re.compile(r\"www\\S+\") \n",
    "    cleaned_sentence = re.sub(www_pattern,'',cleaned_sentence)\n",
    "    return cleaned_sentence"
   ]
  },
  {
   "attachments": {},
   "cell_type": "markdown",
   "metadata": {},
   "source": [
    "### Tag/Hashtag/Channeltag/Userstag Removal"
   ]
  },
  {
   "attachments": {},
   "cell_type": "markdown",
   "metadata": {
    "id": "ibcSQYqlSHCE"
   },
   "source": [
    "### Removal of words with 3 or more repeated characters within them"
   ]
  },
  {
   "cell_type": "code",
   "execution_count": null,
   "metadata": {
    "id": "HuH4xEnTSF8u"
   },
   "outputs": [],
   "source": [
    "def remove_words_with_repeated_characters(sentence): \n",
    "    pattern = re.compile(\"\\\\s*\\\\b(?=\\\\w*(\\\\w)\\\\1{2,})\\\\w*\\\\b\")\n",
    "    cleaned_text  = re.sub(pattern,' ',sentence)\n",
    "    return (cleaned_text)"
   ]
  },
  {
   "attachments": {},
   "cell_type": "markdown",
   "metadata": {},
   "source": [
    "### Spelling mistakes Removal"
   ]
  },
  {
   "attachments": {},
   "cell_type": "markdown",
   "metadata": {
    "id": "GG55fyh-SVCP"
   },
   "source": [
    "### Removal of punctuation and special characters"
   ]
  },
  {
   "cell_type": "code",
   "execution_count": null,
   "metadata": {
    "id": "RQKaV7NQSaKy"
   },
   "outputs": [],
   "source": [
    "def remove_special_characters_punctuations(sentence):\n",
    "    pattern = re.compile(\"[^a-zA-Z]+\") \n",
    "    cleaned_text  = re.sub(pattern,' ',sentence).strip()\n",
    "    return cleaned_text\n",
    "\n",
    "# oppure\n",
    "# Rimuovo caratteri non alfa numerici\n",
    "# noalfa_sentence = [w for w in word_tokenize(lower_sentence) if (w.isalpha() == True)]"
   ]
  },
  {
   "attachments": {},
   "cell_type": "markdown",
   "metadata": {
    "id": "GEkmE6MVTbuT"
   },
   "source": [
    "### Applicazione"
   ]
  },
  {
   "attachments": {},
   "cell_type": "markdown",
   "metadata": {},
   "source": [
    "1. Usa apply per applicare la macrofunzione agli elementi singoli\n",
    "2. Usa map per applicare le singole funzioni agli elementi della lista"
   ]
  },
  {
   "cell_type": "code",
   "execution_count": null,
   "metadata": {
    "id": "-yAMfWsRTezi"
   },
   "outputs": [],
   "source": [
    "def funzione_finale_normalizzazione(text):\n",
    "  text = to_lower(text)\n",
    "  text = remove_emoji(text)\n",
    "  text = rimozione_numbers(text)\n",
    "  text = expand_eng_contradictions(text)\n",
    "  text = remove_html_tags(text)\n",
    "  text = remove_html_entities(text)\n",
    "  text = remove_urls(text)\n",
    "  text = remove_words_with_repeated_characters(text)\n",
    "  text = remove_special_characters_punctuations(text)\n",
    "  text = text.lower()\n",
    "  return text"
   ]
  },
  {
   "cell_type": "code",
   "execution_count": null,
   "metadata": {
    "id": "VE4QOjlhUrDG"
   },
   "outputs": [],
   "source": [
    "df_normalized = food_reviews_df_no_duplicates\n",
    "df_normalized['Text_normalized'] = food_reviews_df_no_duplicates['Text'].apply(funzione_finale_normalizzazione)"
   ]
  },
  {
   "cell_type": "code",
   "execution_count": null,
   "metadata": {},
   "outputs": [],
   "source": []
  }
 ],
 "metadata": {
  "kernelspec": {
   "display_name": "NLP10",
   "language": "python",
   "name": "nlp10"
  },
  "language_info": {
   "codemirror_mode": {
    "name": "ipython",
    "version": 3
   },
   "file_extension": ".py",
   "mimetype": "text/x-python",
   "name": "python",
   "nbconvert_exporter": "python",
   "pygments_lexer": "ipython3",
   "version": "3.10.7"
  },
  "orig_nbformat": 4,
  "vscode": {
   "interpreter": {
    "hash": "c7a68dc2e3110d80647fac8693cdc5243ade541bc79b3bfddbf1397505f434ab"
   }
  }
 },
 "nbformat": 4,
 "nbformat_minor": 2
}
