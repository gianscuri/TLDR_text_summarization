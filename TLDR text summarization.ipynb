{
 "cells": [
  {
   "cell_type": "markdown",
   "id": "f0eebaa3",
   "metadata": {},
   "source": [
    "# TLDR text summarization"
   ]
  },
  {
   "cell_type": "code",
   "execution_count": 1,
   "id": "54ac7742",
   "metadata": {
    "ExecuteTime": {
     "end_time": "2022-12-26T17:32:46.023970Z",
     "start_time": "2022-12-26T17:32:45.464347Z"
    }
   },
   "outputs": [],
   "source": [
    "import os\n",
    "import json\n",
    "import pandas as pd\n",
    "import pprint"
   ]
  },
  {
   "cell_type": "markdown",
   "id": "a31cbb22",
   "metadata": {},
   "source": [
    "## Data Loading\n",
    "\n",
    "The following code loads the entire dataset in memory creating 3 dataframes (train, validation, test)"
   ]
  },
  {
   "cell_type": "code",
   "execution_count": 2,
   "id": "1f8ab77f",
   "metadata": {
    "ExecuteTime": {
     "end_time": "2022-12-26T17:33:31.616032Z",
     "start_time": "2022-12-26T17:32:48.420854Z"
    },
    "scrolled": false
   },
   "outputs": [],
   "source": [
    "files = [os.path.join(dirpath,f) for (dirpath, dirnames, filenames) in os.walk(\"Dataset_TLDRHQ/\") for f in filenames]\n",
    "# files = files[0:14] # subset composed of train, val, test\n",
    "\n",
    "test = pd.DataFrame()\n",
    "train = pd.DataFrame()\n",
    "val = pd.DataFrame()\n",
    "\n",
    "for file in files:\n",
    "    temp = pd.read_json(file, lines=True)\n",
    "    temp.set_index(\"id\", inplace=True)\n",
    "        \n",
    "    if \"test\" in file:\n",
    "        test = pd.concat([test, temp])\n",
    "    if \"train\" in file:\n",
    "        train = pd.concat([train, temp])\n",
    "    else:\n",
    "        val = pd.concat([val, temp])"
   ]
  },
  {
   "cell_type": "markdown",
   "id": "e64ff5cc",
   "metadata": {},
   "source": [
    "Sizes of the dataframes"
   ]
  },
  {
   "cell_type": "code",
   "execution_count": 7,
   "id": "4724106d",
   "metadata": {
    "ExecuteTime": {
     "end_time": "2022-12-26T17:34:37.193472Z",
     "start_time": "2022-12-26T17:34:37.182472Z"
    },
    "scrolled": true
   },
   "outputs": [
    {
     "name": "stdout",
     "output_type": "stream",
     "text": [
      "train elements \t 1590132\n",
      "val elements \t 80967\n",
      "test elements \t 40486\n",
      "tot elements \t 1711585\n"
     ]
    }
   ],
   "source": [
    "print(\"train elements \\t\", len(train))\n",
    "print(\"val elements \\t\", len(val))\n",
    "print(\"test elements \\t\", len(test))\n",
    "print(\"tot elements \\t\", len(train)+len(val)+len(test))"
   ]
  },
  {
   "cell_type": "code",
   "execution_count": 10,
   "id": "a5302d7f",
   "metadata": {
    "ExecuteTime": {
     "end_time": "2022-12-26T17:37:47.499707Z",
     "start_time": "2022-12-26T17:37:47.474772Z"
    },
    "scrolled": false
   },
   "outputs": [
    {
     "data": {
      "text/html": [
       "<div>\n",
       "<style scoped>\n",
       "    .dataframe tbody tr th:only-of-type {\n",
       "        vertical-align: middle;\n",
       "    }\n",
       "\n",
       "    .dataframe tbody tr th {\n",
       "        vertical-align: top;\n",
       "    }\n",
       "\n",
       "    .dataframe thead th {\n",
       "        text-align: right;\n",
       "    }\n",
       "</style>\n",
       "<table border=\"1\" class=\"dataframe\">\n",
       "  <thead>\n",
       "    <tr style=\"text-align: right;\">\n",
       "      <th></th>\n",
       "      <th>document</th>\n",
       "      <th>summary</th>\n",
       "      <th>ext_labels</th>\n",
       "      <th>rg_labels</th>\n",
       "    </tr>\n",
       "    <tr>\n",
       "      <th>id</th>\n",
       "      <th></th>\n",
       "      <th></th>\n",
       "      <th></th>\n",
       "      <th></th>\n",
       "    </tr>\n",
       "  </thead>\n",
       "  <tbody>\n",
       "    <tr>\n",
       "      <th>train-TLDR_RS_2019-07-25907.json</th>\n",
       "      <td>hey y' all , i 've been a lurker in this commu...</td>\n",
       "      <td>i 'm publishing betas of some stuff i 've been...</td>\n",
       "      <td>[0, 0, 0, 1, 0, 0, 0, 0, 0, 0, 0, 0, 0, 0, 0, ...</td>\n",
       "      <td>[0.040456223279431006, 0.022386650144119002, 0...</td>\n",
       "    </tr>\n",
       "    <tr>\n",
       "      <th>train-TLDR_RS_2011-07-7721.json</th>\n",
       "      <td>as the title says , dreams that really scared ...</td>\n",
       "      <td>dreamed i was a cop that got shot in the face ...</td>\n",
       "      <td>[1, 1, 0, 0, 1]</td>\n",
       "      <td>[0.17657869627445003, 0.382656749215711, 0.157...</td>\n",
       "    </tr>\n",
       "    <tr>\n",
       "      <th>train-TLDR_RC_2019-08-cm-9972.json</th>\n",
       "      <td>from u / orangejews4u here 's my \" must read \"...</td>\n",
       "      <td>not worth ) ] ( https://www.reddit.com/r/howto...</td>\n",
       "      <td>[0, 1, 0, 1]</td>\n",
       "      <td>[0.23651113155692202, 0.336435558104879, 0.165...</td>\n",
       "    </tr>\n",
       "    <tr>\n",
       "      <th>train-TLDR_RS_2015-04-39164.json</th>\n",
       "      <td>hello / r / relationships , i did n't really k...</td>\n",
       "      <td>wife wants a break , has started going out par...</td>\n",
       "      <td>[0, 0, 0, 0, 0, 0, 0, 0, 0, 0, 0, 0, 0, 0, 0, ...</td>\n",
       "      <td>[0.044352260202115, 0.016666897769790003, 0.02...</td>\n",
       "    </tr>\n",
       "    <tr>\n",
       "      <th>train-TLDR_RC_2016-05-cm-45089.json</th>\n",
       "      <td>i agree with you to be honest .&lt;/s&gt;&lt;s&gt; my dad ...</td>\n",
       "      <td>i agree with you . regular dad things . some s...</td>\n",
       "      <td>[1, 0, 0, 0, 0, 0, 1, 0, 0, 0, 0, 0]</td>\n",
       "      <td>[0.43353065193323603, 0.054993317369966, 0.047...</td>\n",
       "    </tr>\n",
       "    <tr>\n",
       "      <th>...</th>\n",
       "      <td>...</td>\n",
       "      <td>...</td>\n",
       "      <td>...</td>\n",
       "      <td>...</td>\n",
       "    </tr>\n",
       "    <tr>\n",
       "      <th>TLDR_RS_2021-02-cm-5342.json</th>\n",
       "      <td>basically last year before corona and everythi...</td>\n",
       "      <td>fck web dev , i 'm off to learn how to make an...</td>\n",
       "      <td>[0, 1, 0, 0, 0, 0, 0, 0]</td>\n",
       "      <td>[0.11267163735327002, 0.31056765001268505, 0.1...</td>\n",
       "    </tr>\n",
       "    <tr>\n",
       "      <th>TLDR_RS_2021-02-cm-11094.json</th>\n",
       "      <td>i really like idea of homebrew spells but this...</td>\n",
       "      <td>i do n't find such op spells fun and fair .</td>\n",
       "      <td>[1, 0, 0, 0]</td>\n",
       "      <td>[0.49651190762569103, 0.26557613663699703, 0.0...</td>\n",
       "    </tr>\n",
       "    <tr>\n",
       "      <th>TLDR_RS_2021-03-cm-31347.json</th>\n",
       "      <td>when i ( 21f ) first met my boyfriend , he was...</td>\n",
       "      <td>my boyfriend is getting too sensitive and clin...</td>\n",
       "      <td>[0, 0, 0, 0, 0, 0, 0, 0, 0, 0, 0, 0, 0, 1]</td>\n",
       "      <td>[0.098505453044571, 0.053650019684145005, 0.07...</td>\n",
       "    </tr>\n",
       "    <tr>\n",
       "      <th>TLDR_RS_2021-03-cm-33971.json</th>\n",
       "      <td>for those wondering i 'm in the 9th grade and ...</td>\n",
       "      <td>i insulted my teacher in an online class . the...</td>\n",
       "      <td>[0, 0, 0, 0, 0, 0, 1, 0, 1]</td>\n",
       "      <td>[0.10565948286030301, 0.026185176187118003, 0....</td>\n",
       "    </tr>\n",
       "    <tr>\n",
       "      <th>TLDR_RS_2021-04-cm-13647.json</th>\n",
       "      <td>hey there !&lt;/s&gt;&lt;s&gt; i am looking to buy a bed t...</td>\n",
       "      <td>can i use the neiden bed + 140x200mm matress w...</td>\n",
       "      <td>[0, 0, 1, 0, 0]</td>\n",
       "      <td>[0.0, 0.10146654060073901, 0.42508331024400603...</td>\n",
       "    </tr>\n",
       "  </tbody>\n",
       "</table>\n",
       "<p>1590132 rows × 4 columns</p>\n",
       "</div>"
      ],
      "text/plain": [
       "                                                                              document  \\\n",
       "id                                                                                       \n",
       "train-TLDR_RS_2019-07-25907.json     hey y' all , i 've been a lurker in this commu...   \n",
       "train-TLDR_RS_2011-07-7721.json      as the title says , dreams that really scared ...   \n",
       "train-TLDR_RC_2019-08-cm-9972.json   from u / orangejews4u here 's my \" must read \"...   \n",
       "train-TLDR_RS_2015-04-39164.json     hello / r / relationships , i did n't really k...   \n",
       "train-TLDR_RC_2016-05-cm-45089.json  i agree with you to be honest .</s><s> my dad ...   \n",
       "...                                                                                ...   \n",
       "TLDR_RS_2021-02-cm-5342.json         basically last year before corona and everythi...   \n",
       "TLDR_RS_2021-02-cm-11094.json        i really like idea of homebrew spells but this...   \n",
       "TLDR_RS_2021-03-cm-31347.json        when i ( 21f ) first met my boyfriend , he was...   \n",
       "TLDR_RS_2021-03-cm-33971.json        for those wondering i 'm in the 9th grade and ...   \n",
       "TLDR_RS_2021-04-cm-13647.json        hey there !</s><s> i am looking to buy a bed t...   \n",
       "\n",
       "                                                                               summary  \\\n",
       "id                                                                                       \n",
       "train-TLDR_RS_2019-07-25907.json     i 'm publishing betas of some stuff i 've been...   \n",
       "train-TLDR_RS_2011-07-7721.json      dreamed i was a cop that got shot in the face ...   \n",
       "train-TLDR_RC_2019-08-cm-9972.json   not worth ) ] ( https://www.reddit.com/r/howto...   \n",
       "train-TLDR_RS_2015-04-39164.json     wife wants a break , has started going out par...   \n",
       "train-TLDR_RC_2016-05-cm-45089.json  i agree with you . regular dad things . some s...   \n",
       "...                                                                                ...   \n",
       "TLDR_RS_2021-02-cm-5342.json         fck web dev , i 'm off to learn how to make an...   \n",
       "TLDR_RS_2021-02-cm-11094.json              i do n't find such op spells fun and fair .   \n",
       "TLDR_RS_2021-03-cm-31347.json        my boyfriend is getting too sensitive and clin...   \n",
       "TLDR_RS_2021-03-cm-33971.json        i insulted my teacher in an online class . the...   \n",
       "TLDR_RS_2021-04-cm-13647.json        can i use the neiden bed + 140x200mm matress w...   \n",
       "\n",
       "                                                                            ext_labels  \\\n",
       "id                                                                                       \n",
       "train-TLDR_RS_2019-07-25907.json     [0, 0, 0, 1, 0, 0, 0, 0, 0, 0, 0, 0, 0, 0, 0, ...   \n",
       "train-TLDR_RS_2011-07-7721.json                                        [1, 1, 0, 0, 1]   \n",
       "train-TLDR_RC_2019-08-cm-9972.json                                        [0, 1, 0, 1]   \n",
       "train-TLDR_RS_2015-04-39164.json     [0, 0, 0, 0, 0, 0, 0, 0, 0, 0, 0, 0, 0, 0, 0, ...   \n",
       "train-TLDR_RC_2016-05-cm-45089.json               [1, 0, 0, 0, 0, 0, 1, 0, 0, 0, 0, 0]   \n",
       "...                                                                                ...   \n",
       "TLDR_RS_2021-02-cm-5342.json                                  [0, 1, 0, 0, 0, 0, 0, 0]   \n",
       "TLDR_RS_2021-02-cm-11094.json                                             [1, 0, 0, 0]   \n",
       "TLDR_RS_2021-03-cm-31347.json               [0, 0, 0, 0, 0, 0, 0, 0, 0, 0, 0, 0, 0, 1]   \n",
       "TLDR_RS_2021-03-cm-33971.json                              [0, 0, 0, 0, 0, 0, 1, 0, 1]   \n",
       "TLDR_RS_2021-04-cm-13647.json                                          [0, 0, 1, 0, 0]   \n",
       "\n",
       "                                                                             rg_labels  \n",
       "id                                                                                      \n",
       "train-TLDR_RS_2019-07-25907.json     [0.040456223279431006, 0.022386650144119002, 0...  \n",
       "train-TLDR_RS_2011-07-7721.json      [0.17657869627445003, 0.382656749215711, 0.157...  \n",
       "train-TLDR_RC_2019-08-cm-9972.json   [0.23651113155692202, 0.336435558104879, 0.165...  \n",
       "train-TLDR_RS_2015-04-39164.json     [0.044352260202115, 0.016666897769790003, 0.02...  \n",
       "train-TLDR_RC_2016-05-cm-45089.json  [0.43353065193323603, 0.054993317369966, 0.047...  \n",
       "...                                                                                ...  \n",
       "TLDR_RS_2021-02-cm-5342.json         [0.11267163735327002, 0.31056765001268505, 0.1...  \n",
       "TLDR_RS_2021-02-cm-11094.json        [0.49651190762569103, 0.26557613663699703, 0.0...  \n",
       "TLDR_RS_2021-03-cm-31347.json        [0.098505453044571, 0.053650019684145005, 0.07...  \n",
       "TLDR_RS_2021-03-cm-33971.json        [0.10565948286030301, 0.026185176187118003, 0....  \n",
       "TLDR_RS_2021-04-cm-13647.json        [0.0, 0.10146654060073901, 0.42508331024400603...  \n",
       "\n",
       "[1590132 rows x 4 columns]"
      ]
     },
     "execution_count": 10,
     "metadata": {},
     "output_type": "execute_result"
    }
   ],
   "source": [
    "train"
   ]
  },
  {
   "cell_type": "code",
   "execution_count": 14,
   "id": "e05b1d6f",
   "metadata": {
    "ExecuteTime": {
     "end_time": "2022-12-26T17:38:54.066417Z",
     "start_time": "2022-12-26T17:38:54.053419Z"
    }
   },
   "outputs": [
    {
     "data": {
      "text/plain": [
       "document      hey y' all , i 've been a lurker in this commu...\n",
       "summary       i 'm publishing betas of some stuff i 've been...\n",
       "ext_labels    [0, 0, 0, 1, 0, 0, 0, 0, 0, 0, 0, 0, 0, 0, 0, ...\n",
       "rg_labels     [0.040456223279431006, 0.022386650144119002, 0...\n",
       "Name: train-TLDR_RS_2019-07-25907.json, dtype: object"
      ]
     },
     "execution_count": 14,
     "metadata": {},
     "output_type": "execute_result"
    }
   ],
   "source": [
    "train.iloc[0]"
   ]
  },
  {
   "cell_type": "code",
   "execution_count": 15,
   "id": "7010bff5",
   "metadata": {
    "ExecuteTime": {
     "end_time": "2022-12-26T17:39:33.515948Z",
     "start_time": "2022-12-26T17:39:33.500961Z"
    }
   },
   "outputs": [
    {
     "data": {
      "text/plain": [
       "'hey y\\' all , i \\'ve been a lurker in this community for eons , and it \\'s about time i contributed something .</s><s> ordinarily this is something more properly posted in r / jailbreak - but seeing as how it seems to be an eternal dumpsterfire , i \\'m sure you can understand my preference to share this information here .</s><s> what i \\'ve got for y\\' all today are some betas for various tools i \\'ve been working on for the past couple months , and have been holding off on publishing until they were all ready .</s><s> ## iksof ( ios kernel symbol offset finder )</s><s> just another in the long list of offset finders out there .</s><s> when i first started writing this , the idea was to finally have a nice platform binary , rather than a shell script for finding symbol offsets in an ipsw file \\'s kernelcache .</s><s> i recently realized that there \\'s actually a few out there already and that i just was n\\'t looking hard enough .</s><s> regardless , this is a thing i made , and i think it has potential</s><s> in essence , it tries to get all symbol offsets you could possibly need , and prints them out as macro definitions for you .</s><s> it \\'s open - source and on github here :</s><s> [ https://github.com/tomnific/iksof ] ( https://github.com/tomnific/iksof )</s><s> let \\'s face it , using logos to interact with swift is just plain awful .</s><s> i mean , i suppose it \\'s better than using raw mobilesubstrate calls , but it \\'s still counter to the purpose of logos , which is to simplify the hooking process .</s><s> logos + + make hooking swift just as easy as hooking anything else .</s><s> hooking a swift class looks nearly identical to hooking any other class .</s><s> and hooking a function - well just look at the before and after :</s><s> static void ( * orig_viewcontroller_randomfunction ) ( void ) = null ;</s><s> void hook_viewcontroller_randomfunction ( ) {</s><s> nslog ( @ \" hooked random function \" ) ;</s><s> % init ( viewcontroller = objc_getclass ( \" hookexampleapp.viewcontroller \" ) ) ;</s><s> mshookfunction ( msfindsymbol ( null , \" __ t014hookexampleapp14viewcontrollerc14randomfunctionyyf \" ) ,</s><s> ( void * ) hook_viewcontroller_randomfunction ,</s><s> ( void ** ) & orig_viewcontroller_randomfunction ) ;</s><s> % hookswiftf ( \" hookexampleapp.viewcontroller \" , void , \" __ t014hookexampleapp14viewcontrollerc14randomfunctionyyf \" , void )</s><s> nslog ( @ \" hooked random function \" ) ;</s><s> like c++ compiles down to c , logos + + gets translated down to plain logos using a tool called logos & dash ; & dash ;</s><s> at its current state , it \\'s mostly a proof of concept , but it is entirely useable .</s><s> however , i know a lot of tweak developers develop on their idevices , so , unfortunately , this may be difficult for them to integrate into their process , as logos & dash ; & dash ; is a java program .</s><s> as you \\'ll see , the different parts of the language handle swift \\'s name mangling in different ways .</s><s> based on user feedback , the language will be changed to support one consistent method of handling it .</s><s> you can find it on github here : [ https://github.com/tomnific/logosxx ] ( https://github.com/tomnific/logosxx )</s><s> xpwnd is perhaps the tool i \\'m most excited to share ( no relation to the xpwn toolsuite ) .</s><s> in short , it \\'s a modded version of xcode that has custom sdks geared towards both ios security research and jailbreak development ( with tweak development hopefully coming down the road )</s><s> i noticed that most jailbreaks seem to have a \" standard library \" , if you will , of helper utilities ( these utilities are found in almost every jailbreak ) .</s><s> in addition , things like qilin , iokit and some headers from the macos sdk are also frequently copied over into their own local includes .</s><s> instead of repetitively including these source files and libraries , i wanted to make something that lets you include them like any normal standard c library header .</s><s> this was the genesis of the idea for a jailbreak sdk</s><s> however , i quickly learned that adding arbitrary sdks to xcode is not an easy task and has some unintended side effects .</s><s> eventually , i decided it would be much simpler , and safer , if there was simply a second xcode dedicated to this kind of work .</s><s> thus , xpwnd was born .</s><s> there are some kinks that i \\'m afraid may be inherently unpatchable , but they do n\\'t fully inhibit anything and in spite of them , xpwnd is actually surprisingly stable .</s><s> quick aside : during the making of xpwnd , i also managed to figure out how xcode handles the mythical sparse sdks - something that was previously thought to be a killed feature ( but i \\'ll post more on that elsewhere in the future ) .</s><s> right now , i \\'ve been focusing on the jailbreak development side of xpwnd , so that \\'s probably where you \\'ll see the most changes coming up .</s><s> xpwnd is installable with a simple shell script - all that \\'s needed is a vanilla xcode , about 30 minutes of time , and 40gb of free storage ( xpwnd is only 20gb after the installation ) .</s><s> in the readme , there \\'s a full list of bugs and how they can be mitigated until a permanent solution is found .</s><s> you can find xpwnd on github here : [ https://github.com/tomnific/xpwnd ] ( https://github.com/tomnific/xpwnd )'"
      ]
     },
     "execution_count": 15,
     "metadata": {},
     "output_type": "execute_result"
    }
   ],
   "source": [
    "train['document'].iloc[0]"
   ]
  },
  {
   "cell_type": "markdown",
   "id": "2fadde07",
   "metadata": {},
   "source": [
    "### From dataframe to dictionary"
   ]
  },
  {
   "cell_type": "code",
   "execution_count": 5,
   "id": "c2f322ba",
   "metadata": {
    "ExecuteTime": {
     "end_time": "2022-12-26T17:24:18.986894Z",
     "start_time": "2022-12-26T17:24:10.658987Z"
    }
   },
   "outputs": [],
   "source": [
    "train = train.to_dict(orient=\"index\")\n",
    "val = val.to_dict(orient=\"index\")\n",
    "test = test.to_dict(orient=\"index\")"
   ]
  }
 ],
 "metadata": {
  "kernelspec": {
   "display_name": "Python 3 (ipykernel)",
   "language": "python",
   "name": "python3"
  },
  "language_info": {
   "codemirror_mode": {
    "name": "ipython",
    "version": 3
   },
   "file_extension": ".py",
   "mimetype": "text/x-python",
   "name": "python",
   "nbconvert_exporter": "python",
   "pygments_lexer": "ipython3",
   "version": "3.9.7"
  },
  "toc": {
   "base_numbering": 1,
   "nav_menu": {},
   "number_sections": true,
   "sideBar": true,
   "skip_h1_title": true,
   "title_cell": "Table of Contents",
   "title_sidebar": "Contents",
   "toc_cell": false,
   "toc_position": {},
   "toc_section_display": true,
   "toc_window_display": true
  }
 },
 "nbformat": 4,
 "nbformat_minor": 5
}
